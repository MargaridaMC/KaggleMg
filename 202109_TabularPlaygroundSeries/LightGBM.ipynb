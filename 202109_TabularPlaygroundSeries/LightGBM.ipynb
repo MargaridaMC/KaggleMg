{
 "cells": [
  {
   "cell_type": "code",
   "execution_count": 1,
   "id": "c2126012-e32c-498d-bf37-931266ef6544",
   "metadata": {},
   "outputs": [],
   "source": [
    "import pandas as pd\n",
    "import numpy as np\n",
    "import seaborn as sns\n",
    "import matplotlib.pyplot as plt\n",
    "\n",
    "import lightgbm as lgbm\n",
    "import optuna  # pip install optuna\n",
    "from sklearn.metrics import log_loss\n",
    "from sklearn.model_selection import StratifiedKFold\n",
    "from sklearn.model_selection import cross_validate\n",
    "\n",
    "from joblib import dump, load"
   ]
  },
  {
   "cell_type": "markdown",
   "id": "a5e82887-1ff4-4b7c-bac8-8b90e60fbe8e",
   "metadata": {},
   "source": [
    "# Get Data"
   ]
  },
  {
   "cell_type": "code",
   "execution_count": 2,
   "id": "6df25a5c-2050-4fbb-8e3e-a24262527161",
   "metadata": {},
   "outputs": [
    {
     "data": {
      "text/html": [
       "<div>\n",
       "<style scoped>\n",
       "    .dataframe tbody tr th:only-of-type {\n",
       "        vertical-align: middle;\n",
       "    }\n",
       "\n",
       "    .dataframe tbody tr th {\n",
       "        vertical-align: top;\n",
       "    }\n",
       "\n",
       "    .dataframe thead th {\n",
       "        text-align: right;\n",
       "    }\n",
       "</style>\n",
       "<table border=\"1\" class=\"dataframe\">\n",
       "  <thead>\n",
       "    <tr style=\"text-align: right;\">\n",
       "      <th></th>\n",
       "      <th>f1</th>\n",
       "      <th>f2</th>\n",
       "      <th>f3</th>\n",
       "      <th>f4</th>\n",
       "      <th>f5</th>\n",
       "      <th>f6</th>\n",
       "      <th>f7</th>\n",
       "      <th>f8</th>\n",
       "      <th>f9</th>\n",
       "      <th>f10</th>\n",
       "      <th>...</th>\n",
       "      <th>f110</th>\n",
       "      <th>f111</th>\n",
       "      <th>f112</th>\n",
       "      <th>f113</th>\n",
       "      <th>f114</th>\n",
       "      <th>f115</th>\n",
       "      <th>f116</th>\n",
       "      <th>f117</th>\n",
       "      <th>f118</th>\n",
       "      <th>claim</th>\n",
       "    </tr>\n",
       "    <tr>\n",
       "      <th>id</th>\n",
       "      <th></th>\n",
       "      <th></th>\n",
       "      <th></th>\n",
       "      <th></th>\n",
       "      <th></th>\n",
       "      <th></th>\n",
       "      <th></th>\n",
       "      <th></th>\n",
       "      <th></th>\n",
       "      <th></th>\n",
       "      <th></th>\n",
       "      <th></th>\n",
       "      <th></th>\n",
       "      <th></th>\n",
       "      <th></th>\n",
       "      <th></th>\n",
       "      <th></th>\n",
       "      <th></th>\n",
       "      <th></th>\n",
       "      <th></th>\n",
       "      <th></th>\n",
       "    </tr>\n",
       "  </thead>\n",
       "  <tbody>\n",
       "    <tr>\n",
       "      <th>0</th>\n",
       "      <td>0.10859</td>\n",
       "      <td>0.004314</td>\n",
       "      <td>-37.566</td>\n",
       "      <td>0.017364</td>\n",
       "      <td>0.28915</td>\n",
       "      <td>-10.25100</td>\n",
       "      <td>135.12</td>\n",
       "      <td>168900.0</td>\n",
       "      <td>3.992400e+14</td>\n",
       "      <td>86.489</td>\n",
       "      <td>...</td>\n",
       "      <td>-12.2280</td>\n",
       "      <td>1.7482</td>\n",
       "      <td>1.90960</td>\n",
       "      <td>-7.11570</td>\n",
       "      <td>4378.80</td>\n",
       "      <td>1.2096</td>\n",
       "      <td>8.613400e+14</td>\n",
       "      <td>140.1</td>\n",
       "      <td>1.01770</td>\n",
       "      <td>1</td>\n",
       "    </tr>\n",
       "    <tr>\n",
       "      <th>1</th>\n",
       "      <td>0.10090</td>\n",
       "      <td>0.299610</td>\n",
       "      <td>11822.000</td>\n",
       "      <td>0.276500</td>\n",
       "      <td>0.45970</td>\n",
       "      <td>-0.83733</td>\n",
       "      <td>1721.90</td>\n",
       "      <td>119810.0</td>\n",
       "      <td>3.874100e+15</td>\n",
       "      <td>9953.600</td>\n",
       "      <td>...</td>\n",
       "      <td>-56.7580</td>\n",
       "      <td>4.1684</td>\n",
       "      <td>0.34808</td>\n",
       "      <td>4.14200</td>\n",
       "      <td>913.23</td>\n",
       "      <td>1.2464</td>\n",
       "      <td>7.575100e+15</td>\n",
       "      <td>1861.0</td>\n",
       "      <td>0.28359</td>\n",
       "      <td>0</td>\n",
       "    </tr>\n",
       "    <tr>\n",
       "      <th>2</th>\n",
       "      <td>0.17803</td>\n",
       "      <td>-0.006980</td>\n",
       "      <td>907.270</td>\n",
       "      <td>0.272140</td>\n",
       "      <td>0.45948</td>\n",
       "      <td>0.17327</td>\n",
       "      <td>2298.00</td>\n",
       "      <td>360650.0</td>\n",
       "      <td>1.224500e+13</td>\n",
       "      <td>15827.000</td>\n",
       "      <td>...</td>\n",
       "      <td>-5.7688</td>\n",
       "      <td>1.2042</td>\n",
       "      <td>0.26290</td>\n",
       "      <td>8.13120</td>\n",
       "      <td>45119.00</td>\n",
       "      <td>1.1764</td>\n",
       "      <td>3.218100e+14</td>\n",
       "      <td>3838.2</td>\n",
       "      <td>0.40690</td>\n",
       "      <td>1</td>\n",
       "    </tr>\n",
       "    <tr>\n",
       "      <th>3</th>\n",
       "      <td>0.15236</td>\n",
       "      <td>0.007259</td>\n",
       "      <td>780.100</td>\n",
       "      <td>0.025179</td>\n",
       "      <td>0.51947</td>\n",
       "      <td>7.49140</td>\n",
       "      <td>112.51</td>\n",
       "      <td>259490.0</td>\n",
       "      <td>7.781400e+13</td>\n",
       "      <td>-36.837</td>\n",
       "      <td>...</td>\n",
       "      <td>-34.8580</td>\n",
       "      <td>2.0694</td>\n",
       "      <td>0.79631</td>\n",
       "      <td>-16.33600</td>\n",
       "      <td>4952.40</td>\n",
       "      <td>1.1784</td>\n",
       "      <td>4.533000e+12</td>\n",
       "      <td>4889.1</td>\n",
       "      <td>0.51486</td>\n",
       "      <td>1</td>\n",
       "    </tr>\n",
       "    <tr>\n",
       "      <th>4</th>\n",
       "      <td>0.11623</td>\n",
       "      <td>0.502900</td>\n",
       "      <td>-109.150</td>\n",
       "      <td>0.297910</td>\n",
       "      <td>0.34490</td>\n",
       "      <td>-0.40932</td>\n",
       "      <td>2538.90</td>\n",
       "      <td>65332.0</td>\n",
       "      <td>1.907200e+15</td>\n",
       "      <td>144.120</td>\n",
       "      <td>...</td>\n",
       "      <td>-13.6410</td>\n",
       "      <td>1.5298</td>\n",
       "      <td>1.14640</td>\n",
       "      <td>-0.43124</td>\n",
       "      <td>3856.50</td>\n",
       "      <td>1.4830</td>\n",
       "      <td>-8.991300e+12</td>\n",
       "      <td>NaN</td>\n",
       "      <td>0.23049</td>\n",
       "      <td>1</td>\n",
       "    </tr>\n",
       "  </tbody>\n",
       "</table>\n",
       "<p>5 rows × 119 columns</p>\n",
       "</div>"
      ],
      "text/plain": [
       "         f1        f2         f3        f4       f5        f6       f7  \\\n",
       "id                                                                       \n",
       "0   0.10859  0.004314    -37.566  0.017364  0.28915 -10.25100   135.12   \n",
       "1   0.10090  0.299610  11822.000  0.276500  0.45970  -0.83733  1721.90   \n",
       "2   0.17803 -0.006980    907.270  0.272140  0.45948   0.17327  2298.00   \n",
       "3   0.15236  0.007259    780.100  0.025179  0.51947   7.49140   112.51   \n",
       "4   0.11623  0.502900   -109.150  0.297910  0.34490  -0.40932  2538.90   \n",
       "\n",
       "          f8            f9        f10  ...     f110    f111     f112  \\\n",
       "id                                     ...                             \n",
       "0   168900.0  3.992400e+14     86.489  ... -12.2280  1.7482  1.90960   \n",
       "1   119810.0  3.874100e+15   9953.600  ... -56.7580  4.1684  0.34808   \n",
       "2   360650.0  1.224500e+13  15827.000  ...  -5.7688  1.2042  0.26290   \n",
       "3   259490.0  7.781400e+13    -36.837  ... -34.8580  2.0694  0.79631   \n",
       "4    65332.0  1.907200e+15    144.120  ... -13.6410  1.5298  1.14640   \n",
       "\n",
       "        f113      f114    f115          f116    f117     f118  claim  \n",
       "id                                                                    \n",
       "0   -7.11570   4378.80  1.2096  8.613400e+14   140.1  1.01770      1  \n",
       "1    4.14200    913.23  1.2464  7.575100e+15  1861.0  0.28359      0  \n",
       "2    8.13120  45119.00  1.1764  3.218100e+14  3838.2  0.40690      1  \n",
       "3  -16.33600   4952.40  1.1784  4.533000e+12  4889.1  0.51486      1  \n",
       "4   -0.43124   3856.50  1.4830 -8.991300e+12     NaN  0.23049      1  \n",
       "\n",
       "[5 rows x 119 columns]"
      ]
     },
     "execution_count": 2,
     "metadata": {},
     "output_type": "execute_result"
    }
   ],
   "source": [
    "train = pd.read_csv(\"Data/train.csv\", index_col = 0)\n",
    "train.head()"
   ]
  },
  {
   "cell_type": "code",
   "execution_count": 3,
   "id": "a1d65fa1-a0fe-4d00-bafa-c0a4f6232773",
   "metadata": {},
   "outputs": [],
   "source": [
    "X = train.drop(\"claim\", axis = 1).copy()\n",
    "y = train.claim.copy()"
   ]
  },
  {
   "cell_type": "code",
   "execution_count": 4,
   "id": "1ed35c36-2606-40ef-9ee7-b0bf54985649",
   "metadata": {},
   "outputs": [
    {
     "data": {
      "text/plain": [
       "0    0.501508\n",
       "1    0.498492\n",
       "Name: claim, dtype: float64"
      ]
     },
     "execution_count": 4,
     "metadata": {},
     "output_type": "execute_result"
    }
   ],
   "source": [
    "y.value_counts(normalize = True)"
   ]
  },
  {
   "cell_type": "code",
   "execution_count": 5,
   "id": "ac864073-b2ec-45fc-b226-421175c26c2b",
   "metadata": {},
   "outputs": [],
   "source": [
    "test_data = pd.read_csv(\"Data/test.csv\", index_col = 0)\n",
    "sample_submission = pd.read_csv(\"Data/sample_solution.csv\", index_col = 0)"
   ]
  },
  {
   "cell_type": "markdown",
   "id": "a803616d-2e9c-4f4b-b5a4-565219e591e8",
   "metadata": {
    "tags": []
   },
   "source": [
    "# Train and test default LightGBM model"
   ]
  },
  {
   "cell_type": "code",
   "execution_count": 12,
   "id": "a8376d8d-831d-41bd-bfba-43a534bd8258",
   "metadata": {},
   "outputs": [],
   "source": [
    "model = lgbm.LGBMClassifier(objective=\"binary\")\n",
    "cross_validation_score = cross_validate(model, X, y, scoring = 'roc_auc', cv = 5, n_jobs = -1, \n",
    "                                        return_train_score = True, return_estimator = True)"
   ]
  },
  {
   "cell_type": "code",
   "execution_count": 15,
   "id": "dea10f8b-f42a-4bee-abf8-7259bdb49bc4",
   "metadata": {},
   "outputs": [
    {
     "name": "stdout",
     "output_type": "stream",
     "text": [
      "Mean AUC on training set: 0.8072918495282868\n",
      "Mean AUC on test set: 0.8015118188492816\n"
     ]
    }
   ],
   "source": [
    "print(\"Mean AUC on training set:\", np.mean(cross_validation_score['train_score']))\n",
    "print(\"Mean AUC on test set:\", np.mean(cross_validation_score['test_score']))"
   ]
  },
  {
   "cell_type": "code",
   "execution_count": 22,
   "id": "4a7298d3-07a3-4339-87d2-27a1041c99b0",
   "metadata": {},
   "outputs": [],
   "source": [
    "# Train on the whole training set and get predictions on the test set\n",
    "model = lgbm.LGBMClassifier(objective=\"binary\")\n",
    "model.fit(X, y)\n",
    "dump(model, 'Models/default_lgbm_model.joblib') "
   ]
  },
  {
   "cell_type": "code",
   "execution_count": 25,
   "id": "02623581-59fd-47e2-af92-c12a08bcca1b",
   "metadata": {},
   "outputs": [],
   "source": [
    "y_pred = model.predict_proba(test_data)\n",
    "sample_submission.claim = y_pred[:, 1]\n",
    "sample_submission.to_csv(\"Submissions/default_lgbm_model.csv\")"
   ]
  },
  {
   "cell_type": "markdown",
   "id": "5d24e091-b015-40d5-b5e1-81a75d7cb42c",
   "metadata": {},
   "source": [
    "# Add Feature including number of nans per sample"
   ]
  },
  {
   "cell_type": "code",
   "execution_count": 6,
   "id": "338c4263-f94f-4993-9b09-3466650f9999",
   "metadata": {},
   "outputs": [],
   "source": [
    "def feature_generation(data):\n",
    "\n",
    "    # add feature with number of na's per row + standard deviation\n",
    "    features = [col for col in data.columns if 'f' in col] # if 'f' is in the name\n",
    "    data['count_na'] = data[features].isna().sum(axis=1)\n",
    "\n",
    "    features += ['count_na']\n",
    "\n",
    "    # now do imputation with mean\n",
    "    data[features] = data[features].fillna(data[features].mean())\n",
    "\n",
    "    return data"
   ]
  },
  {
   "cell_type": "code",
   "execution_count": 7,
   "id": "41dea5c8-e508-4d08-9d61-05a41feaa8de",
   "metadata": {},
   "outputs": [],
   "source": [
    "X_w_nan = feature_generation(X)\n",
    "test_data_w_nan = feature_generation(test_data)"
   ]
  },
  {
   "cell_type": "code",
   "execution_count": 28,
   "id": "13a9fce4-78c9-4e3f-a9e4-2e60845689fb",
   "metadata": {},
   "outputs": [
    {
     "data": {
      "text/plain": [
       "['Models/default_lgbm_model_w_nan_count.joblib']"
      ]
     },
     "execution_count": 28,
     "metadata": {},
     "output_type": "execute_result"
    }
   ],
   "source": [
    "model = lgbm.LGBMClassifier(objective=\"binary\")\n",
    "model.fit(X_w_nan, y)\n",
    "dump(model, 'Models/default_lgbm_model_w_nan_count.joblib') "
   ]
  },
  {
   "cell_type": "code",
   "execution_count": 29,
   "id": "60fa6e38-1c25-4d37-932e-11a06b7c20af",
   "metadata": {},
   "outputs": [],
   "source": [
    "y_pred = model.predict_proba(test_data_w_nan)\n",
    "sample_submission.claim = y_pred[:, 1]\n",
    "sample_submission.to_csv(\"Submissions/default_lgbm_model_w_nan_count.csv\")"
   ]
  },
  {
   "cell_type": "code",
   "execution_count": 38,
   "id": "d1dfe71c-3767-4de1-a6f4-f25134207c5b",
   "metadata": {},
   "outputs": [
    {
     "data": {
      "text/plain": [
       "Text(0.5, 1.0, 'Top 20 most important features')"
      ]
     },
     "execution_count": 38,
     "metadata": {},
     "output_type": "execute_result"
    },
    {
     "data": {
      "image/png": "[encoded data removed]",
      "text/plain": [
       "<Figure size 432x288 with 1 Axes>"
      ]
     },
     "metadata": {
      "needs_background": "light"
     },
     "output_type": "display_data"
    }
   ],
   "source": [
    "feature_importance = pd.DataFrame(columns = [\"Feature\", \"Importance\"])\n",
    "feature_importance.Feature = X_w_nan.columns\n",
    "feature_importance.Importance = model.feature_importances_\n",
    "feature_importance = feature_importance.sort_values(\"Importance\", ascending = False)\n",
    "\n",
    "_ = sns.barplot(data = feature_importance.iloc[:20], x = 'Importance', y = 'Feature')\n",
    "plt.title(\"Top 20 most important features\")"
   ]
  },
  {
   "cell_type": "markdown",
   "id": "d6cf5df4-ef47-4a6d-8948-119c959a23a1",
   "metadata": {},
   "source": [
    "# Hyperparameter Tuning using Optuna"
   ]
  },
  {
   "cell_type": "code",
   "execution_count": 36,
   "id": "b9f90b25-e279-447f-bfc6-e621e170d2fb",
   "metadata": {},
   "outputs": [],
   "source": [
    "from optuna.integration import LightGBMPruningCallback\n",
    "from sklearn.metrics import roc_auc_score\n",
    "from sklearn.model_selection import train_test_split\n",
    "\n",
    "def objective(trial, X, y):\n",
    "    param_grid = {\n",
    "        \"device_type\": trial.suggest_categorical(\"device_type\", ['gpu']),\n",
    "        \"n_estimators\": trial.suggest_int(\"n_estimators\", 10, 10000),\n",
    "        \"learning_rate\": trial.suggest_float(\"learning_rate\", 0.01, 0.3),\n",
    "        \"num_leaves\": trial.suggest_int(\"num_leaves\", 20, 3000, step=20),\n",
    "        \"max_depth\": trial.suggest_int(\"max_depth\", 3, 12),\n",
    "        \"min_data_in_leaf\": trial.suggest_int(\"min_data_in_leaf\", 200, 10000, step=100),\n",
    "        \"lambda_l1\": trial.suggest_int(\"lambda_l1\", 0, 100, step=5),\n",
    "        \"lambda_l2\": trial.suggest_int(\"lambda_l2\", 0, 100, step=5),\n",
    "        \"min_gain_to_split\": trial.suggest_float(\"min_gain_to_split\", 0, 15),\n",
    "        \"bagging_fraction\": trial.suggest_float(\n",
    "            \"bagging_fraction\", 0.2, 0.95, step=0.1\n",
    "        ),\n",
    "        \"bagging_freq\": trial.suggest_categorical(\"bagging_freq\", [1]),\n",
    "        \"feature_fraction\": trial.suggest_float(\n",
    "            \"feature_fraction\", 0.2, 0.95, step=0.1\n",
    "        ),\n",
    "    }\n",
    "\n",
    "    #cv = StratifiedKFold(n_splits=5, shuffle=True, random_state=1121218)\n",
    "\n",
    "    #cv_scores = np.empty(5)\n",
    "    #for idx, (train_idx, test_idx) in enumerate(cv.split(X, y)):\n",
    "    \n",
    "    X_train, X_test, y_train, y_test = train_test_split(X, y, test_size=0.25)\n",
    "\n",
    "    model = lgbm.LGBMClassifier(objective=\"binary\", **param_grid)\n",
    "    model.fit(\n",
    "        X_train,\n",
    "        y_train,\n",
    "        eval_set=[(X_test, y_test)],\n",
    "        eval_metric=\"auc\",\n",
    "        early_stopping_rounds=100,\n",
    "        callbacks=[\n",
    "            LightGBMPruningCallback(trial, \"auc\")\n",
    "        ],  # Add a pruning callback\n",
    "        verbose = 0\n",
    "    )\n",
    "    preds = model.predict_proba(X_test)[:, 1]\n",
    "    return roc_auc_score(y_test, preds)"
   ]
  },
  {
   "cell_type": "code",
   "execution_count": 60,
   "id": "01ff341b-305b-4439-8846-46ff01b53610",
   "metadata": {
    "collapsed": true,
    "jupyter": {
     "outputs_hidden": true
    },
    "tags": []
   },
   "outputs": [
    {
     "name": "stderr",
     "output_type": "stream",
     "text": [
      "\u001b[32m[I 2021-09-06 21:17:08,144]\u001b[0m A new study created in memory with name: LGBM Classifier\u001b[0m\n",
      "C:\\Users\\I539756\\.virtualenvs\\202109_TabularPlaygroundSeries-75bSHUOP\\lib\\site-packages\\optuna\\distributions.py:545: UserWarning: The distribution is specified by [0.2, 0.95] and q=0.1, but the range is not divisible by `q`. It will be replaced by [0.2, 0.9].\n",
      "  warnings.warn(\n"
     ]
    },
    {
     "name": "stdout",
     "output_type": "stream",
     "text": [
      "[LightGBM] [Warning] feature_fraction is set=0.30000000000000004, colsample_bytree=1.0 will be ignored. Current value: feature_fraction=0.30000000000000004\n",
      "[LightGBM] [Warning] min_data_in_leaf is set=400, min_child_samples=20 will be ignored. Current value: min_data_in_leaf=400\n",
      "[LightGBM] [Warning] min_gain_to_split is set=1.388143647346598, min_split_gain=0.0 will be ignored. Current value: min_gain_to_split=1.388143647346598\n",
      "[LightGBM] [Warning] lambda_l1 is set=30, reg_alpha=0.0 will be ignored. Current value: lambda_l1=30\n",
      "[LightGBM] [Warning] bagging_fraction is set=0.9, subsample=1.0 will be ignored. Current value: bagging_fraction=0.9\n",
      "[LightGBM] [Warning] lambda_l2 is set=45, reg_lambda=0.0 will be ignored. Current value: lambda_l2=45\n",
      "[LightGBM] [Warning] bagging_freq is set=1, subsample_freq=0 will be ignored. Current value: bagging_freq=1\n"
     ]
    },
    {
     "name": "stderr",
     "output_type": "stream",
     "text": [
      "\u001b[32m[I 2021-09-06 21:18:32,555]\u001b[0m Trial 0 finished with value: 0.8113996388870579 and parameters: {'device_type': 'gpu', 'n_estimators': 8104, 'learning_rate': 0.22174988849545918, 'num_leaves': 640, 'max_depth': 10, 'min_data_in_leaf': 400, 'lambda_l1': 30, 'lambda_l2': 45, 'min_gain_to_split': 1.388143647346598, 'bagging_fraction': 0.9, 'bagging_freq': 1, 'feature_fraction': 0.30000000000000004}. Best is trial 0 with value: 0.8113996388870579.\u001b[0m\n",
      "C:\\Users\\I539756\\.virtualenvs\\202109_TabularPlaygroundSeries-75bSHUOP\\lib\\site-packages\\optuna\\distributions.py:545: UserWarning: The distribution is specified by [0.2, 0.95] and q=0.1, but the range is not divisible by `q`. It will be replaced by [0.2, 0.9].\n",
      "  warnings.warn(\n"
     ]
    },
    {
     "name": "stdout",
     "output_type": "stream",
     "text": [
      "[LightGBM] [Warning] feature_fraction is set=0.9, colsample_bytree=1.0 will be ignored. Current value: feature_fraction=0.9\n",
      "[LightGBM] [Warning] min_data_in_leaf is set=6200, min_child_samples=20 will be ignored. Current value: min_data_in_leaf=6200\n",
      "[LightGBM] [Warning] min_gain_to_split is set=13.427340657971683, min_split_gain=0.0 will be ignored. Current value: min_gain_to_split=13.427340657971683\n",
      "[LightGBM] [Warning] lambda_l1 is set=55, reg_alpha=0.0 will be ignored. Current value: lambda_l1=55\n",
      "[LightGBM] [Warning] bagging_fraction is set=0.9, subsample=1.0 will be ignored. Current value: bagging_fraction=0.9\n",
      "[LightGBM] [Warning] lambda_l2 is set=95, reg_lambda=0.0 will be ignored. Current value: lambda_l2=95\n",
      "[LightGBM] [Warning] bagging_freq is set=1, subsample_freq=0 will be ignored. Current value: bagging_freq=1\n"
     ]
    },
    {
     "name": "stderr",
     "output_type": "stream",
     "text": [
      "\u001b[32m[I 2021-09-06 21:19:43,266]\u001b[0m Trial 1 finished with value: 0.81285649206763 and parameters: {'device_type': 'gpu', 'n_estimators': 3593, 'learning_rate': 0.17950083022824376, 'num_leaves': 780, 'max_depth': 4, 'min_data_in_leaf': 6200, 'lambda_l1': 55, 'lambda_l2': 95, 'min_gain_to_split': 13.427340657971683, 'bagging_fraction': 0.9, 'bagging_freq': 1, 'feature_fraction': 0.9}. Best is trial 1 with value: 0.81285649206763.\u001b[0m\n",
      "C:\\Users\\I539756\\.virtualenvs\\202109_TabularPlaygroundSeries-75bSHUOP\\lib\\site-packages\\optuna\\distributions.py:545: UserWarning: The distribution is specified by [0.2, 0.95] and q=0.1, but the range is not divisible by `q`. It will be replaced by [0.2, 0.9].\n",
      "  warnings.warn(\n"
     ]
    },
    {
     "name": "stdout",
     "output_type": "stream",
     "text": [
      "[LightGBM] [Warning] feature_fraction is set=0.9, colsample_bytree=1.0 will be ignored. Current value: feature_fraction=0.9\n",
      "[LightGBM] [Warning] min_data_in_leaf is set=4500, min_child_samples=20 will be ignored. Current value: min_data_in_leaf=4500\n",
      "[LightGBM] [Warning] min_gain_to_split is set=9.63926253529289, min_split_gain=0.0 will be ignored. Current value: min_gain_to_split=9.63926253529289\n",
      "[LightGBM] [Warning] lambda_l1 is set=20, reg_alpha=0.0 will be ignored. Current value: lambda_l1=20\n",
      "[LightGBM] [Warning] bagging_fraction is set=0.30000000000000004, subsample=1.0 will be ignored. Current value: bagging_fraction=0.30000000000000004\n",
      "[LightGBM] [Warning] lambda_l2 is set=70, reg_lambda=0.0 will be ignored. Current value: lambda_l2=70\n",
      "[LightGBM] [Warning] bagging_freq is set=1, subsample_freq=0 will be ignored. Current value: bagging_freq=1\n"
     ]
    },
    {
     "name": "stderr",
     "output_type": "stream",
     "text": [
      "\u001b[32m[I 2021-09-06 21:25:21,261]\u001b[0m Trial 2 finished with value: 0.814700103069542 and parameters: {'device_type': 'gpu', 'n_estimators': 6056, 'learning_rate': 0.024461690456875167, 'num_leaves': 660, 'max_depth': 9, 'min_data_in_leaf': 4500, 'lambda_l1': 20, 'lambda_l2': 70, 'min_gain_to_split': 9.63926253529289, 'bagging_fraction': 0.30000000000000004, 'bagging_freq': 1, 'feature_fraction': 0.9}. Best is trial 2 with value: 0.814700103069542.\u001b[0m\n",
      "C:\\Users\\I539756\\.virtualenvs\\202109_TabularPlaygroundSeries-75bSHUOP\\lib\\site-packages\\optuna\\distributions.py:545: UserWarning: The distribution is specified by [0.2, 0.95] and q=0.1, but the range is not divisible by `q`. It will be replaced by [0.2, 0.9].\n",
      "  warnings.warn(\n"
     ]
    },
    {
     "name": "stdout",
     "output_type": "stream",
     "text": [
      "[LightGBM] [Warning] feature_fraction is set=0.5, colsample_bytree=1.0 will be ignored. Current value: feature_fraction=0.5\n",
      "[LightGBM] [Warning] min_data_in_leaf is set=6900, min_child_samples=20 will be ignored. Current value: min_data_in_leaf=6900\n",
      "[LightGBM] [Warning] min_gain_to_split is set=1.7012774867877583, min_split_gain=0.0 will be ignored. Current value: min_gain_to_split=1.7012774867877583\n",
      "[LightGBM] [Warning] lambda_l1 is set=60, reg_alpha=0.0 will be ignored. Current value: lambda_l1=60\n",
      "[LightGBM] [Warning] bagging_fraction is set=0.6000000000000001, subsample=1.0 will be ignored. Current value: bagging_fraction=0.6000000000000001\n",
      "[LightGBM] [Warning] lambda_l2 is set=35, reg_lambda=0.0 will be ignored. Current value: lambda_l2=35\n",
      "[LightGBM] [Warning] bagging_freq is set=1, subsample_freq=0 will be ignored. Current value: bagging_freq=1\n"
     ]
    },
    {
     "name": "stderr",
     "output_type": "stream",
     "text": [
      "\u001b[32m[I 2021-09-06 21:26:13,790]\u001b[0m Trial 3 finished with value: 0.8122665597037276 and parameters: {'device_type': 'gpu', 'n_estimators': 1113, 'learning_rate': 0.29412384700686495, 'num_leaves': 1940, 'max_depth': 7, 'min_data_in_leaf': 6900, 'lambda_l1': 60, 'lambda_l2': 35, 'min_gain_to_split': 1.7012774867877583, 'bagging_fraction': 0.6000000000000001, 'bagging_freq': 1, 'feature_fraction': 0.5}. Best is trial 2 with value: 0.814700103069542.\u001b[0m\n",
      "C:\\Users\\I539756\\.virtualenvs\\202109_TabularPlaygroundSeries-75bSHUOP\\lib\\site-packages\\optuna\\distributions.py:545: UserWarning: The distribution is specified by [0.2, 0.95] and q=0.1, but the range is not divisible by `q`. It will be replaced by [0.2, 0.9].\n",
      "  warnings.warn(\n"
     ]
    },
    {
     "name": "stdout",
     "output_type": "stream",
     "text": [
      "[LightGBM] [Warning] feature_fraction is set=0.7, colsample_bytree=1.0 will be ignored. Current value: feature_fraction=0.7\n",
      "[LightGBM] [Warning] min_data_in_leaf is set=5300, min_child_samples=20 will be ignored. Current value: min_data_in_leaf=5300\n",
      "[LightGBM] [Warning] min_gain_to_split is set=2.3054702348989986, min_split_gain=0.0 will be ignored. Current value: min_gain_to_split=2.3054702348989986\n",
      "[LightGBM] [Warning] lambda_l1 is set=40, reg_alpha=0.0 will be ignored. Current value: lambda_l1=40\n",
      "[LightGBM] [Warning] bagging_fraction is set=0.9, subsample=1.0 will be ignored. Current value: bagging_fraction=0.9\n",
      "[LightGBM] [Warning] lambda_l2 is set=15, reg_lambda=0.0 will be ignored. Current value: lambda_l2=15\n",
      "[LightGBM] [Warning] bagging_freq is set=1, subsample_freq=0 will be ignored. Current value: bagging_freq=1\n"
     ]
    },
    {
     "name": "stderr",
     "output_type": "stream",
     "text": [
      "\u001b[32m[I 2021-09-06 21:29:56,220]\u001b[0m Trial 4 finished with value: 0.8157751717240578 and parameters: {'device_type': 'gpu', 'n_estimators': 4152, 'learning_rate': 0.11776671664903711, 'num_leaves': 380, 'max_depth': 3, 'min_data_in_leaf': 5300, 'lambda_l1': 40, 'lambda_l2': 15, 'min_gain_to_split': 2.3054702348989986, 'bagging_fraction': 0.9, 'bagging_freq': 1, 'feature_fraction': 0.7}. Best is trial 4 with value: 0.8157751717240578.\u001b[0m\n",
      "C:\\Users\\I539756\\.virtualenvs\\202109_TabularPlaygroundSeries-75bSHUOP\\lib\\site-packages\\optuna\\distributions.py:545: UserWarning: The distribution is specified by [0.2, 0.95] and q=0.1, but the range is not divisible by `q`. It will be replaced by [0.2, 0.9].\n",
      "  warnings.warn(\n"
     ]
    },
    {
     "name": "stdout",
     "output_type": "stream",
     "text": [
      "[LightGBM] [Warning] feature_fraction is set=0.2, colsample_bytree=1.0 will be ignored. Current value: feature_fraction=0.2\n",
      "[LightGBM] [Warning] min_data_in_leaf is set=10000, min_child_samples=20 will be ignored. Current value: min_data_in_leaf=10000\n",
      "[LightGBM] [Warning] min_gain_to_split is set=7.716581110347113, min_split_gain=0.0 will be ignored. Current value: min_gain_to_split=7.716581110347113\n",
      "[LightGBM] [Warning] lambda_l1 is set=95, reg_alpha=0.0 will be ignored. Current value: lambda_l1=95\n",
      "[LightGBM] [Warning] bagging_fraction is set=0.7, subsample=1.0 will be ignored. Current value: bagging_fraction=0.7\n",
      "[LightGBM] [Warning] lambda_l2 is set=80, reg_lambda=0.0 will be ignored. Current value: lambda_l2=80\n",
      "[LightGBM] [Warning] bagging_freq is set=1, subsample_freq=0 will be ignored. Current value: bagging_freq=1\n"
     ]
    },
    {
     "name": "stderr",
     "output_type": "stream",
     "text": [
      "\u001b[32m[I 2021-09-06 21:30:02,256]\u001b[0m Trial 5 pruned. Trial was pruned at iteration 0.\u001b[0m\n",
      "C:\\Users\\I539756\\.virtualenvs\\202109_TabularPlaygroundSeries-75bSHUOP\\lib\\site-packages\\optuna\\distributions.py:545: UserWarning: The distribution is specified by [0.2, 0.95] and q=0.1, but the range is not divisible by `q`. It will be replaced by [0.2, 0.9].\n",
      "  warnings.warn(\n",
      "\u001b[32m[I 2021-09-06 21:31:13,575]\u001b[0m Trial 6 pruned. Trial was pruned at iteration 789.\u001b[0m\n",
      "C:\\Users\\I539756\\.virtualenvs\\202109_TabularPlaygroundSeries-75bSHUOP\\lib\\site-packages\\optuna\\distributions.py:545: UserWarning: The distribution is specified by [0.2, 0.95] and q=0.1, but the range is not divisible by `q`. It will be replaced by [0.2, 0.9].\n",
      "  warnings.warn(\n",
      "\u001b[32m[I 2021-09-06 21:31:20,685]\u001b[0m Trial 7 pruned. Trial was pruned at iteration 4.\u001b[0m\n",
      "C:\\Users\\I539756\\.virtualenvs\\202109_TabularPlaygroundSeries-75bSHUOP\\lib\\site-packages\\optuna\\distributions.py:545: UserWarning: The distribution is specified by [0.2, 0.95] and q=0.1, but the range is not divisible by `q`. It will be replaced by [0.2, 0.9].\n",
      "  warnings.warn(\n",
      "\u001b[32m[I 2021-09-06 21:31:26,447]\u001b[0m Trial 8 pruned. Trial was pruned at iteration 0.\u001b[0m\n",
      "C:\\Users\\I539756\\.virtualenvs\\202109_TabularPlaygroundSeries-75bSHUOP\\lib\\site-packages\\optuna\\distributions.py:545: UserWarning: The distribution is specified by [0.2, 0.95] and q=0.1, but the range is not divisible by `q`. It will be replaced by [0.2, 0.9].\n",
      "  warnings.warn(\n",
      "\u001b[32m[I 2021-09-06 21:31:33,122]\u001b[0m Trial 9 pruned. Trial was pruned at iteration 0.\u001b[0m\n",
      "C:\\Users\\I539756\\.virtualenvs\\202109_TabularPlaygroundSeries-75bSHUOP\\lib\\site-packages\\optuna\\distributions.py:545: UserWarning: The distribution is specified by [0.2, 0.95] and q=0.1, but the range is not divisible by `q`. It will be replaced by [0.2, 0.9].\n",
      "  warnings.warn(\n",
      "\u001b[32m[I 2021-09-06 21:31:40,206]\u001b[0m Trial 10 pruned. Trial was pruned at iteration 1.\u001b[0m\n",
      "C:\\Users\\I539756\\.virtualenvs\\202109_TabularPlaygroundSeries-75bSHUOP\\lib\\site-packages\\optuna\\distributions.py:545: UserWarning: The distribution is specified by [0.2, 0.95] and q=0.1, but the range is not divisible by `q`. It will be replaced by [0.2, 0.9].\n",
      "  warnings.warn(\n",
      "\u001b[32m[I 2021-09-06 21:31:46,373]\u001b[0m Trial 11 pruned. Trial was pruned at iteration 0.\u001b[0m\n",
      "C:\\Users\\I539756\\.virtualenvs\\202109_TabularPlaygroundSeries-75bSHUOP\\lib\\site-packages\\optuna\\distributions.py:545: UserWarning: The distribution is specified by [0.2, 0.95] and q=0.1, but the range is not divisible by `q`. It will be replaced by [0.2, 0.9].\n",
      "  warnings.warn(\n",
      "\u001b[32m[I 2021-09-06 21:31:52,500]\u001b[0m Trial 12 pruned. Trial was pruned at iteration 0.\u001b[0m\n",
      "C:\\Users\\I539756\\.virtualenvs\\202109_TabularPlaygroundSeries-75bSHUOP\\lib\\site-packages\\optuna\\distributions.py:545: UserWarning: The distribution is specified by [0.2, 0.95] and q=0.1, but the range is not divisible by `q`. It will be replaced by [0.2, 0.9].\n",
      "  warnings.warn(\n",
      "\u001b[32m[I 2021-09-06 21:31:58,892]\u001b[0m Trial 13 pruned. Trial was pruned at iteration 1.\u001b[0m\n",
      "C:\\Users\\I539756\\.virtualenvs\\202109_TabularPlaygroundSeries-75bSHUOP\\lib\\site-packages\\optuna\\distributions.py:545: UserWarning: The distribution is specified by [0.2, 0.95] and q=0.1, but the range is not divisible by `q`. It will be replaced by [0.2, 0.9].\n",
      "  warnings.warn(\n",
      "\u001b[32m[I 2021-09-06 21:32:04,363]\u001b[0m Trial 14 pruned. Trial was pruned at iteration 0.\u001b[0m\n",
      "C:\\Users\\I539756\\.virtualenvs\\202109_TabularPlaygroundSeries-75bSHUOP\\lib\\site-packages\\optuna\\distributions.py:545: UserWarning: The distribution is specified by [0.2, 0.95] and q=0.1, but the range is not divisible by `q`. It will be replaced by [0.2, 0.9].\n",
      "  warnings.warn(\n",
      "\u001b[32m[I 2021-09-06 21:34:00,029]\u001b[0m Trial 15 finished with value: 0.815832506134456 and parameters: {'device_type': 'gpu', 'n_estimators': 5156, 'learning_rate': 0.15775460918975295, 'num_leaves': 1260, 'max_depth': 9, 'min_data_in_leaf': 3100, 'lambda_l1': 15, 'lambda_l2': 65, 'min_gain_to_split': 6.603972026735996, 'bagging_fraction': 0.7, 'bagging_freq': 1, 'feature_fraction': 0.8}. Best is trial 15 with value: 0.815832506134456.\u001b[0m\n",
      "C:\\Users\\I539756\\.virtualenvs\\202109_TabularPlaygroundSeries-75bSHUOP\\lib\\site-packages\\optuna\\distributions.py:545: UserWarning: The distribution is specified by [0.2, 0.95] and q=0.1, but the range is not divisible by `q`. It will be replaced by [0.2, 0.9].\n",
      "  warnings.warn(\n"
     ]
    },
    {
     "name": "stdout",
     "output_type": "stream",
     "text": [
      "[LightGBM] [Warning] feature_fraction is set=0.7, colsample_bytree=1.0 will be ignored. Current value: feature_fraction=0.7\n",
      "[LightGBM] [Warning] min_data_in_leaf is set=8200, min_child_samples=20 will be ignored. Current value: min_data_in_leaf=8200\n",
      "[LightGBM] [Warning] min_gain_to_split is set=0.107433876728523, min_split_gain=0.0 will be ignored. Current value: min_gain_to_split=0.107433876728523\n",
      "[LightGBM] [Warning] lambda_l1 is set=0, reg_alpha=0.0 will be ignored. Current value: lambda_l1=0\n",
      "[LightGBM] [Warning] bagging_fraction is set=0.7, subsample=1.0 will be ignored. Current value: bagging_fraction=0.7\n",
      "[LightGBM] [Warning] lambda_l2 is set=15, reg_lambda=0.0 will be ignored. Current value: lambda_l2=15\n",
      "[LightGBM] [Warning] bagging_freq is set=1, subsample_freq=0 will be ignored. Current value: bagging_freq=1\n"
     ]
    },
    {
     "name": "stderr",
     "output_type": "stream",
     "text": [
      "\u001b[32m[I 2021-09-06 21:35:04,783]\u001b[0m Trial 16 finished with value: 0.8149095445220149 and parameters: {'device_type': 'gpu', 'n_estimators': 4805, 'learning_rate': 0.16140036138623354, 'num_leaves': 2420, 'max_depth': 6, 'min_data_in_leaf': 8200, 'lambda_l1': 0, 'lambda_l2': 15, 'min_gain_to_split': 0.107433876728523, 'bagging_fraction': 0.7, 'bagging_freq': 1, 'feature_fraction': 0.7}. Best is trial 15 with value: 0.815832506134456.\u001b[0m\n",
      "C:\\Users\\I539756\\.virtualenvs\\202109_TabularPlaygroundSeries-75bSHUOP\\lib\\site-packages\\optuna\\distributions.py:545: UserWarning: The distribution is specified by [0.2, 0.95] and q=0.1, but the range is not divisible by `q`. It will be replaced by [0.2, 0.9].\n",
      "  warnings.warn(\n"
     ]
    },
    {
     "name": "stdout",
     "output_type": "stream",
     "text": [
      "[LightGBM] [Warning] feature_fraction is set=0.5, colsample_bytree=1.0 will be ignored. Current value: feature_fraction=0.5\n",
      "[LightGBM] [Warning] min_data_in_leaf is set=2100, min_child_samples=20 will be ignored. Current value: min_data_in_leaf=2100\n",
      "[LightGBM] [Warning] min_gain_to_split is set=6.336056411717001, min_split_gain=0.0 will be ignored. Current value: min_gain_to_split=6.336056411717001\n",
      "[LightGBM] [Warning] lambda_l1 is set=40, reg_alpha=0.0 will be ignored. Current value: lambda_l1=40\n",
      "[LightGBM] [Warning] bagging_fraction is set=0.7, subsample=1.0 will be ignored. Current value: bagging_fraction=0.7\n",
      "[LightGBM] [Warning] lambda_l2 is set=60, reg_lambda=0.0 will be ignored. Current value: lambda_l2=60\n",
      "[LightGBM] [Warning] bagging_freq is set=1, subsample_freq=0 will be ignored. Current value: bagging_freq=1\n"
     ]
    },
    {
     "name": "stderr",
     "output_type": "stream",
     "text": [
      "\u001b[32m[I 2021-09-06 21:35:10,288]\u001b[0m Trial 17 pruned. Trial was pruned at iteration 0.\u001b[0m\n",
      "C:\\Users\\I539756\\.virtualenvs\\202109_TabularPlaygroundSeries-75bSHUOP\\lib\\site-packages\\optuna\\distributions.py:545: UserWarning: The distribution is specified by [0.2, 0.95] and q=0.1, but the range is not divisible by `q`. It will be replaced by [0.2, 0.9].\n",
      "  warnings.warn(\n",
      "\u001b[32m[I 2021-09-06 21:37:18,237]\u001b[0m Trial 18 finished with value: 0.815191645998086 and parameters: {'device_type': 'gpu', 'n_estimators': 2836, 'learning_rate': 0.1427204106398938, 'num_leaves': 1100, 'max_depth': 7, 'min_data_in_leaf': 3400, 'lambda_l1': 25, 'lambda_l2': 35, 'min_gain_to_split': 2.9446295690195643, 'bagging_fraction': 0.8, 'bagging_freq': 1, 'feature_fraction': 0.8}. Best is trial 15 with value: 0.815832506134456.\u001b[0m\n",
      "C:\\Users\\I539756\\.virtualenvs\\202109_TabularPlaygroundSeries-75bSHUOP\\lib\\site-packages\\optuna\\distributions.py:545: UserWarning: The distribution is specified by [0.2, 0.95] and q=0.1, but the range is not divisible by `q`. It will be replaced by [0.2, 0.9].\n",
      "  warnings.warn(\n"
     ]
    },
    {
     "name": "stdout",
     "output_type": "stream",
     "text": [
      "[LightGBM] [Warning] feature_fraction is set=0.7, colsample_bytree=1.0 will be ignored. Current value: feature_fraction=0.7\n",
      "[LightGBM] [Warning] min_data_in_leaf is set=1400, min_child_samples=20 will be ignored. Current value: min_data_in_leaf=1400\n",
      "[LightGBM] [Warning] min_gain_to_split is set=6.818011942670447, min_split_gain=0.0 will be ignored. Current value: min_gain_to_split=6.818011942670447\n",
      "[LightGBM] [Warning] lambda_l1 is set=5, reg_alpha=0.0 will be ignored. Current value: lambda_l1=5\n",
      "[LightGBM] [Warning] bagging_fraction is set=0.8, subsample=1.0 will be ignored. Current value: bagging_fraction=0.8\n",
      "[LightGBM] [Warning] lambda_l2 is set=80, reg_lambda=0.0 will be ignored. Current value: lambda_l2=80\n",
      "[LightGBM] [Warning] bagging_freq is set=1, subsample_freq=0 will be ignored. Current value: bagging_freq=1\n"
     ]
    },
    {
     "name": "stderr",
     "output_type": "stream",
     "text": [
      "\u001b[32m[I 2021-09-06 21:37:24,157]\u001b[0m Trial 19 pruned. Trial was pruned at iteration 1.\u001b[0m\n",
      "C:\\Users\\I539756\\.virtualenvs\\202109_TabularPlaygroundSeries-75bSHUOP\\lib\\site-packages\\optuna\\distributions.py:545: UserWarning: The distribution is specified by [0.2, 0.95] and q=0.1, but the range is not divisible by `q`. It will be replaced by [0.2, 0.9].\n",
      "  warnings.warn(\n",
      "\u001b[32m[I 2021-09-06 21:37:31,006]\u001b[0m Trial 20 pruned. Trial was pruned at iteration 4.\u001b[0m\n",
      "C:\\Users\\I539756\\.virtualenvs\\202109_TabularPlaygroundSeries-75bSHUOP\\lib\\site-packages\\optuna\\distributions.py:545: UserWarning: The distribution is specified by [0.2, 0.95] and q=0.1, but the range is not divisible by `q`. It will be replaced by [0.2, 0.9].\n",
      "  warnings.warn(\n",
      "\u001b[32m[I 2021-09-06 21:39:37,313]\u001b[0m Trial 21 finished with value: 0.8153437855288277 and parameters: {'device_type': 'gpu', 'n_estimators': 2755, 'learning_rate': 0.146984008573427, 'num_leaves': 1100, 'max_depth': 7, 'min_data_in_leaf': 3300, 'lambda_l1': 25, 'lambda_l2': 30, 'min_gain_to_split': 2.944920308100172, 'bagging_fraction': 0.8, 'bagging_freq': 1, 'feature_fraction': 0.8}. Best is trial 15 with value: 0.815832506134456.\u001b[0m\n",
      "C:\\Users\\I539756\\.virtualenvs\\202109_TabularPlaygroundSeries-75bSHUOP\\lib\\site-packages\\optuna\\distributions.py:545: UserWarning: The distribution is specified by [0.2, 0.95] and q=0.1, but the range is not divisible by `q`. It will be replaced by [0.2, 0.9].\n",
      "  warnings.warn(\n"
     ]
    },
    {
     "name": "stdout",
     "output_type": "stream",
     "text": [
      "[LightGBM] [Warning] feature_fraction is set=0.8, colsample_bytree=1.0 will be ignored. Current value: feature_fraction=0.8\n",
      "[LightGBM] [Warning] min_data_in_leaf is set=5400, min_child_samples=20 will be ignored. Current value: min_data_in_leaf=5400\n",
      "[LightGBM] [Warning] min_gain_to_split is set=2.3013438656703116, min_split_gain=0.0 will be ignored. Current value: min_gain_to_split=2.3013438656703116\n",
      "[LightGBM] [Warning] lambda_l1 is set=30, reg_alpha=0.0 will be ignored. Current value: lambda_l1=30\n",
      "[LightGBM] [Warning] bagging_fraction is set=0.8, subsample=1.0 will be ignored. Current value: bagging_fraction=0.8\n",
      "[LightGBM] [Warning] lambda_l2 is set=10, reg_lambda=0.0 will be ignored. Current value: lambda_l2=10\n",
      "[LightGBM] [Warning] bagging_freq is set=1, subsample_freq=0 will be ignored. Current value: bagging_freq=1\n"
     ]
    },
    {
     "name": "stderr",
     "output_type": "stream",
     "text": [
      "\u001b[32m[I 2021-09-06 21:39:43,081]\u001b[0m Trial 22 pruned. Trial was pruned at iteration 1.\u001b[0m\n",
      "C:\\Users\\I539756\\.virtualenvs\\202109_TabularPlaygroundSeries-75bSHUOP\\lib\\site-packages\\optuna\\distributions.py:545: UserWarning: The distribution is specified by [0.2, 0.95] and q=0.1, but the range is not divisible by `q`. It will be replaced by [0.2, 0.9].\n",
      "  warnings.warn(\n",
      "\u001b[32m[I 2021-09-06 21:39:49,037]\u001b[0m Trial 23 pruned. Trial was pruned at iteration 4.\u001b[0m\n",
      "C:\\Users\\I539756\\.virtualenvs\\202109_TabularPlaygroundSeries-75bSHUOP\\lib\\site-packages\\optuna\\distributions.py:545: UserWarning: The distribution is specified by [0.2, 0.95] and q=0.1, but the range is not divisible by `q`. It will be replaced by [0.2, 0.9].\n",
      "  warnings.warn(\n",
      "\u001b[32m[I 2021-09-06 21:39:54,808]\u001b[0m Trial 24 pruned. Trial was pruned at iteration 0.\u001b[0m\n",
      "C:\\Users\\I539756\\.virtualenvs\\202109_TabularPlaygroundSeries-75bSHUOP\\lib\\site-packages\\optuna\\distributions.py:545: UserWarning: The distribution is specified by [0.2, 0.95] and q=0.1, but the range is not divisible by `q`. It will be replaced by [0.2, 0.9].\n",
      "  warnings.warn(\n",
      "\u001b[32m[I 2021-09-06 21:40:34,333]\u001b[0m Trial 25 pruned. Trial was pruned at iteration 193.\u001b[0m\n",
      "C:\\Users\\I539756\\.virtualenvs\\202109_TabularPlaygroundSeries-75bSHUOP\\lib\\site-packages\\optuna\\distributions.py:545: UserWarning: The distribution is specified by [0.2, 0.95] and q=0.1, but the range is not divisible by `q`. It will be replaced by [0.2, 0.9].\n",
      "  warnings.warn(\n",
      "\u001b[32m[I 2021-09-06 21:40:40,319]\u001b[0m Trial 26 pruned. Trial was pruned at iteration 0.\u001b[0m\n",
      "C:\\Users\\I539756\\.virtualenvs\\202109_TabularPlaygroundSeries-75bSHUOP\\lib\\site-packages\\optuna\\distributions.py:545: UserWarning: The distribution is specified by [0.2, 0.95] and q=0.1, but the range is not divisible by `q`. It will be replaced by [0.2, 0.9].\n",
      "  warnings.warn(\n",
      "\u001b[32m[I 2021-09-06 21:40:45,853]\u001b[0m Trial 27 pruned. Trial was pruned at iteration 0.\u001b[0m\n",
      "C:\\Users\\I539756\\.virtualenvs\\202109_TabularPlaygroundSeries-75bSHUOP\\lib\\site-packages\\optuna\\distributions.py:545: UserWarning: The distribution is specified by [0.2, 0.95] and q=0.1, but the range is not divisible by `q`. It will be replaced by [0.2, 0.9].\n",
      "  warnings.warn(\n",
      "\u001b[32m[I 2021-09-06 21:40:51,372]\u001b[0m Trial 28 pruned. Trial was pruned at iteration 0.\u001b[0m\n",
      "C:\\Users\\I539756\\.virtualenvs\\202109_TabularPlaygroundSeries-75bSHUOP\\lib\\site-packages\\optuna\\distributions.py:545: UserWarning: The distribution is specified by [0.2, 0.95] and q=0.1, but the range is not divisible by `q`. It will be replaced by [0.2, 0.9].\n",
      "  warnings.warn(\n",
      "\u001b[32m[I 2021-09-06 21:40:57,562]\u001b[0m Trial 29 pruned. Trial was pruned at iteration 0.\u001b[0m\n",
      "C:\\Users\\I539756\\.virtualenvs\\202109_TabularPlaygroundSeries-75bSHUOP\\lib\\site-packages\\optuna\\distributions.py:545: UserWarning: The distribution is specified by [0.2, 0.95] and q=0.1, but the range is not divisible by `q`. It will be replaced by [0.2, 0.9].\n",
      "  warnings.warn(\n",
      "\u001b[32m[I 2021-09-06 21:42:03,140]\u001b[0m Trial 30 finished with value: 0.8163029465509793 and parameters: {'device_type': 'gpu', 'n_estimators': 9590, 'learning_rate': 0.18227838793671425, 'num_leaves': 760, 'max_depth': 5, 'min_data_in_leaf': 700, 'lambda_l1': 10, 'lambda_l2': 25, 'min_gain_to_split': 5.782744082905875, 'bagging_fraction': 0.6000000000000001, 'bagging_freq': 1, 'feature_fraction': 0.9}. Best is trial 30 with value: 0.8163029465509793.\u001b[0m\n",
      "C:\\Users\\I539756\\.virtualenvs\\202109_TabularPlaygroundSeries-75bSHUOP\\lib\\site-packages\\optuna\\distributions.py:545: UserWarning: The distribution is specified by [0.2, 0.95] and q=0.1, but the range is not divisible by `q`. It will be replaced by [0.2, 0.9].\n",
      "  warnings.warn(\n"
     ]
    },
    {
     "name": "stdout",
     "output_type": "stream",
     "text": [
      "[LightGBM] [Warning] feature_fraction is set=0.9, colsample_bytree=1.0 will be ignored. Current value: feature_fraction=0.9\n",
      "[LightGBM] [Warning] min_data_in_leaf is set=300, min_child_samples=20 will be ignored. Current value: min_data_in_leaf=300\n",
      "[LightGBM] [Warning] min_gain_to_split is set=8.560070934964443, min_split_gain=0.0 will be ignored. Current value: min_gain_to_split=8.560070934964443\n",
      "[LightGBM] [Warning] lambda_l1 is set=10, reg_alpha=0.0 will be ignored. Current value: lambda_l1=10\n",
      "[LightGBM] [Warning] bagging_fraction is set=0.6000000000000001, subsample=1.0 will be ignored. Current value: bagging_fraction=0.6000000000000001\n",
      "[LightGBM] [Warning] lambda_l2 is set=25, reg_lambda=0.0 will be ignored. Current value: lambda_l2=25\n",
      "[LightGBM] [Warning] bagging_freq is set=1, subsample_freq=0 will be ignored. Current value: bagging_freq=1\n"
     ]
    },
    {
     "name": "stderr",
     "output_type": "stream",
     "text": [
      "\u001b[32m[I 2021-09-06 21:43:39,280]\u001b[0m Trial 31 finished with value: 0.8156427436204344 and parameters: {'device_type': 'gpu', 'n_estimators': 9661, 'learning_rate': 0.1867732589399323, 'num_leaves': 760, 'max_depth': 5, 'min_data_in_leaf': 300, 'lambda_l1': 10, 'lambda_l2': 25, 'min_gain_to_split': 8.560070934964443, 'bagging_fraction': 0.6000000000000001, 'bagging_freq': 1, 'feature_fraction': 0.9}. Best is trial 30 with value: 0.8163029465509793.\u001b[0m\n",
      "C:\\Users\\I539756\\.virtualenvs\\202109_TabularPlaygroundSeries-75bSHUOP\\lib\\site-packages\\optuna\\distributions.py:545: UserWarning: The distribution is specified by [0.2, 0.95] and q=0.1, but the range is not divisible by `q`. It will be replaced by [0.2, 0.9].\n",
      "  warnings.warn(\n"
     ]
    },
    {
     "name": "stdout",
     "output_type": "stream",
     "text": [
      "[LightGBM] [Warning] feature_fraction is set=0.9, colsample_bytree=1.0 will be ignored. Current value: feature_fraction=0.9\n",
      "[LightGBM] [Warning] min_data_in_leaf is set=400, min_child_samples=20 will be ignored. Current value: min_data_in_leaf=400\n",
      "[LightGBM] [Warning] min_gain_to_split is set=8.399358631397114, min_split_gain=0.0 will be ignored. Current value: min_gain_to_split=8.399358631397114\n",
      "[LightGBM] [Warning] lambda_l1 is set=5, reg_alpha=0.0 will be ignored. Current value: lambda_l1=5\n",
      "[LightGBM] [Warning] bagging_fraction is set=0.5, subsample=1.0 will be ignored. Current value: bagging_fraction=0.5\n",
      "[LightGBM] [Warning] lambda_l2 is set=10, reg_lambda=0.0 will be ignored. Current value: lambda_l2=10\n",
      "[LightGBM] [Warning] bagging_freq is set=1, subsample_freq=0 will be ignored. Current value: bagging_freq=1\n"
     ]
    },
    {
     "name": "stderr",
     "output_type": "stream",
     "text": [
      "\u001b[32m[I 2021-09-06 21:43:45,492]\u001b[0m Trial 32 pruned. Trial was pruned at iteration 5.\u001b[0m\n",
      "C:\\Users\\I539756\\.virtualenvs\\202109_TabularPlaygroundSeries-75bSHUOP\\lib\\site-packages\\optuna\\distributions.py:545: UserWarning: The distribution is specified by [0.2, 0.95] and q=0.1, but the range is not divisible by `q`. It will be replaced by [0.2, 0.9].\n",
      "  warnings.warn(\n",
      "\u001b[32m[I 2021-09-06 21:44:43,261]\u001b[0m Trial 33 finished with value: 0.8153766548140962 and parameters: {'device_type': 'gpu', 'n_estimators': 8917, 'learning_rate': 0.20681582688815145, 'num_leaves': 360, 'max_depth': 4, 'min_data_in_leaf': 200, 'lambda_l1': 10, 'lambda_l2': 25, 'min_gain_to_split': 5.553449200942615, 'bagging_fraction': 0.6000000000000001, 'bagging_freq': 1, 'feature_fraction': 0.9}. Best is trial 30 with value: 0.8163029465509793.\u001b[0m\n",
      "C:\\Users\\I539756\\.virtualenvs\\202109_TabularPlaygroundSeries-75bSHUOP\\lib\\site-packages\\optuna\\distributions.py:545: UserWarning: The distribution is specified by [0.2, 0.95] and q=0.1, but the range is not divisible by `q`. It will be replaced by [0.2, 0.9].\n",
      "  warnings.warn(\n"
     ]
    },
    {
     "name": "stdout",
     "output_type": "stream",
     "text": [
      "[LightGBM] [Warning] feature_fraction is set=0.9, colsample_bytree=1.0 will be ignored. Current value: feature_fraction=0.9\n",
      "[LightGBM] [Warning] min_data_in_leaf is set=1200, min_child_samples=20 will be ignored. Current value: min_data_in_leaf=1200\n",
      "[LightGBM] [Warning] min_gain_to_split is set=14.889880072641052, min_split_gain=0.0 will be ignored. Current value: min_gain_to_split=14.889880072641052\n",
      "[LightGBM] [Warning] lambda_l1 is set=10, reg_alpha=0.0 will be ignored. Current value: lambda_l1=10\n",
      "[LightGBM] [Warning] bagging_fraction is set=0.4, subsample=1.0 will be ignored. Current value: bagging_fraction=0.4\n",
      "[LightGBM] [Warning] lambda_l2 is set=40, reg_lambda=0.0 will be ignored. Current value: lambda_l2=40\n",
      "[LightGBM] [Warning] bagging_freq is set=1, subsample_freq=0 will be ignored. Current value: bagging_freq=1\n"
     ]
    },
    {
     "name": "stderr",
     "output_type": "stream",
     "text": [
      "\u001b[32m[I 2021-09-06 21:44:48,780]\u001b[0m Trial 34 pruned. Trial was pruned at iteration 0.\u001b[0m\n",
      "C:\\Users\\I539756\\.virtualenvs\\202109_TabularPlaygroundSeries-75bSHUOP\\lib\\site-packages\\optuna\\distributions.py:545: UserWarning: The distribution is specified by [0.2, 0.95] and q=0.1, but the range is not divisible by `q`. It will be replaced by [0.2, 0.9].\n",
      "  warnings.warn(\n",
      "\u001b[32m[I 2021-09-06 21:44:54,248]\u001b[0m Trial 35 pruned. Trial was pruned at iteration 0.\u001b[0m\n",
      "C:\\Users\\I539756\\.virtualenvs\\202109_TabularPlaygroundSeries-75bSHUOP\\lib\\site-packages\\optuna\\distributions.py:545: UserWarning: The distribution is specified by [0.2, 0.95] and q=0.1, but the range is not divisible by `q`. It will be replaced by [0.2, 0.9].\n",
      "  warnings.warn(\n",
      "\u001b[32m[I 2021-09-06 21:45:00,425]\u001b[0m Trial 36 pruned. Trial was pruned at iteration 1.\u001b[0m\n",
      "C:\\Users\\I539756\\.virtualenvs\\202109_TabularPlaygroundSeries-75bSHUOP\\lib\\site-packages\\optuna\\distributions.py:545: UserWarning: The distribution is specified by [0.2, 0.95] and q=0.1, but the range is not divisible by `q`. It will be replaced by [0.2, 0.9].\n",
      "  warnings.warn(\n",
      "\u001b[32m[I 2021-09-06 21:45:06,883]\u001b[0m Trial 37 pruned. Trial was pruned at iteration 0.\u001b[0m\n",
      "C:\\Users\\I539756\\.virtualenvs\\202109_TabularPlaygroundSeries-75bSHUOP\\lib\\site-packages\\optuna\\distributions.py:545: UserWarning: The distribution is specified by [0.2, 0.95] and q=0.1, but the range is not divisible by `q`. It will be replaced by [0.2, 0.9].\n",
      "  warnings.warn(\n",
      "\u001b[32m[I 2021-09-06 21:45:13,190]\u001b[0m Trial 38 pruned. Trial was pruned at iteration 4.\u001b[0m\n",
      "C:\\Users\\I539756\\.virtualenvs\\202109_TabularPlaygroundSeries-75bSHUOP\\lib\\site-packages\\optuna\\distributions.py:545: UserWarning: The distribution is specified by [0.2, 0.95] and q=0.1, but the range is not divisible by `q`. It will be replaced by [0.2, 0.9].\n",
      "  warnings.warn(\n",
      "\u001b[32m[I 2021-09-06 21:45:19,944]\u001b[0m Trial 39 pruned. Trial was pruned at iteration 1.\u001b[0m\n",
      "C:\\Users\\I539756\\.virtualenvs\\202109_TabularPlaygroundSeries-75bSHUOP\\lib\\site-packages\\optuna\\distributions.py:545: UserWarning: The distribution is specified by [0.2, 0.95] and q=0.1, but the range is not divisible by `q`. It will be replaced by [0.2, 0.9].\n",
      "  warnings.warn(\n",
      "\u001b[32m[I 2021-09-06 21:45:25,770]\u001b[0m Trial 40 pruned. Trial was pruned at iteration 0.\u001b[0m\n",
      "C:\\Users\\I539756\\.virtualenvs\\202109_TabularPlaygroundSeries-75bSHUOP\\lib\\site-packages\\optuna\\distributions.py:545: UserWarning: The distribution is specified by [0.2, 0.95] and q=0.1, but the range is not divisible by `q`. It will be replaced by [0.2, 0.9].\n",
      "  warnings.warn(\n",
      "\u001b[32m[I 2021-09-06 21:45:31,693]\u001b[0m Trial 41 pruned. Trial was pruned at iteration 5.\u001b[0m\n",
      "C:\\Users\\I539756\\.virtualenvs\\202109_TabularPlaygroundSeries-75bSHUOP\\lib\\site-packages\\optuna\\distributions.py:545: UserWarning: The distribution is specified by [0.2, 0.95] and q=0.1, but the range is not divisible by `q`. It will be replaced by [0.2, 0.9].\n",
      "  warnings.warn(\n",
      "\u001b[32m[I 2021-09-06 21:45:37,910]\u001b[0m Trial 42 pruned. Trial was pruned at iteration 5.\u001b[0m\n",
      "C:\\Users\\I539756\\.virtualenvs\\202109_TabularPlaygroundSeries-75bSHUOP\\lib\\site-packages\\optuna\\distributions.py:545: UserWarning: The distribution is specified by [0.2, 0.95] and q=0.1, but the range is not divisible by `q`. It will be replaced by [0.2, 0.9].\n",
      "  warnings.warn(\n",
      "\u001b[32m[I 2021-09-06 21:45:43,822]\u001b[0m Trial 43 pruned. Trial was pruned at iteration 2.\u001b[0m\n",
      "C:\\Users\\I539756\\.virtualenvs\\202109_TabularPlaygroundSeries-75bSHUOP\\lib\\site-packages\\optuna\\distributions.py:545: UserWarning: The distribution is specified by [0.2, 0.95] and q=0.1, but the range is not divisible by `q`. It will be replaced by [0.2, 0.9].\n",
      "  warnings.warn(\n",
      "\u001b[32m[I 2021-09-06 21:45:50,625]\u001b[0m Trial 44 pruned. Trial was pruned at iteration 12.\u001b[0m\n",
      "C:\\Users\\I539756\\.virtualenvs\\202109_TabularPlaygroundSeries-75bSHUOP\\lib\\site-packages\\optuna\\distributions.py:545: UserWarning: The distribution is specified by [0.2, 0.95] and q=0.1, but the range is not divisible by `q`. It will be replaced by [0.2, 0.9].\n",
      "  warnings.warn(\n",
      "\u001b[32m[I 2021-09-06 21:45:56,624]\u001b[0m Trial 45 pruned. Trial was pruned at iteration 0.\u001b[0m\n",
      "C:\\Users\\I539756\\.virtualenvs\\202109_TabularPlaygroundSeries-75bSHUOP\\lib\\site-packages\\optuna\\distributions.py:545: UserWarning: The distribution is specified by [0.2, 0.95] and q=0.1, but the range is not divisible by `q`. It will be replaced by [0.2, 0.9].\n",
      "  warnings.warn(\n",
      "\u001b[32m[I 2021-09-06 21:46:02,243]\u001b[0m Trial 46 pruned. Trial was pruned at iteration 1.\u001b[0m\n",
      "C:\\Users\\I539756\\.virtualenvs\\202109_TabularPlaygroundSeries-75bSHUOP\\lib\\site-packages\\optuna\\distributions.py:545: UserWarning: The distribution is specified by [0.2, 0.95] and q=0.1, but the range is not divisible by `q`. It will be replaced by [0.2, 0.9].\n",
      "  warnings.warn(\n",
      "\u001b[32m[I 2021-09-06 21:46:08,361]\u001b[0m Trial 47 pruned. Trial was pruned at iteration 5.\u001b[0m\n",
      "C:\\Users\\I539756\\.virtualenvs\\202109_TabularPlaygroundSeries-75bSHUOP\\lib\\site-packages\\optuna\\distributions.py:545: UserWarning: The distribution is specified by [0.2, 0.95] and q=0.1, but the range is not divisible by `q`. It will be replaced by [0.2, 0.9].\n",
      "  warnings.warn(\n",
      "\u001b[32m[I 2021-09-06 21:46:14,328]\u001b[0m Trial 48 pruned. Trial was pruned at iteration 0.\u001b[0m\n",
      "C:\\Users\\I539756\\.virtualenvs\\202109_TabularPlaygroundSeries-75bSHUOP\\lib\\site-packages\\optuna\\distributions.py:545: UserWarning: The distribution is specified by [0.2, 0.95] and q=0.1, but the range is not divisible by `q`. It will be replaced by [0.2, 0.9].\n",
      "  warnings.warn(\n",
      "\u001b[32m[I 2021-09-06 21:46:20,461]\u001b[0m Trial 49 pruned. Trial was pruned at iteration 0.\u001b[0m\n",
      "C:\\Users\\I539756\\.virtualenvs\\202109_TabularPlaygroundSeries-75bSHUOP\\lib\\site-packages\\optuna\\distributions.py:545: UserWarning: The distribution is specified by [0.2, 0.95] and q=0.1, but the range is not divisible by `q`. It will be replaced by [0.2, 0.9].\n",
      "  warnings.warn(\n",
      "\u001b[32m[I 2021-09-06 21:46:26,351]\u001b[0m Trial 50 pruned. Trial was pruned at iteration 4.\u001b[0m\n",
      "C:\\Users\\I539756\\.virtualenvs\\202109_TabularPlaygroundSeries-75bSHUOP\\lib\\site-packages\\optuna\\distributions.py:545: UserWarning: The distribution is specified by [0.2, 0.95] and q=0.1, but the range is not divisible by `q`. It will be replaced by [0.2, 0.9].\n",
      "  warnings.warn(\n",
      "\u001b[32m[I 2021-09-06 21:48:16,906]\u001b[0m Trial 51 finished with value: 0.8154210714031995 and parameters: {'device_type': 'gpu', 'n_estimators': 2923, 'learning_rate': 0.14197517571341428, 'num_leaves': 1060, 'max_depth': 7, 'min_data_in_leaf': 200, 'lambda_l1': 25, 'lambda_l2': 30, 'min_gain_to_split': 2.1357127859582503, 'bagging_fraction': 0.8, 'bagging_freq': 1, 'feature_fraction': 0.8}. Best is trial 30 with value: 0.8163029465509793.\u001b[0m\n",
      "C:\\Users\\I539756\\.virtualenvs\\202109_TabularPlaygroundSeries-75bSHUOP\\lib\\site-packages\\optuna\\distributions.py:545: UserWarning: The distribution is specified by [0.2, 0.95] and q=0.1, but the range is not divisible by `q`. It will be replaced by [0.2, 0.9].\n",
      "  warnings.warn(\n"
     ]
    },
    {
     "name": "stdout",
     "output_type": "stream",
     "text": [
      "[LightGBM] [Warning] feature_fraction is set=0.9, colsample_bytree=1.0 will be ignored. Current value: feature_fraction=0.9\n",
      "[LightGBM] [Warning] min_data_in_leaf is set=500, min_child_samples=20 will be ignored. Current value: min_data_in_leaf=500\n",
      "[LightGBM] [Warning] min_gain_to_split is set=3.6054294706946717, min_split_gain=0.0 will be ignored. Current value: min_gain_to_split=3.6054294706946717\n",
      "[LightGBM] [Warning] lambda_l1 is set=15, reg_alpha=0.0 will be ignored. Current value: lambda_l1=15\n",
      "[LightGBM] [Warning] bagging_fraction is set=0.9, subsample=1.0 will be ignored. Current value: bagging_fraction=0.9\n",
      "[LightGBM] [Warning] lambda_l2 is set=25, reg_lambda=0.0 will be ignored. Current value: lambda_l2=25\n",
      "[LightGBM] [Warning] bagging_freq is set=1, subsample_freq=0 will be ignored. Current value: bagging_freq=1\n"
     ]
    },
    {
     "name": "stderr",
     "output_type": "stream",
     "text": [
      "\u001b[32m[I 2021-09-06 21:48:22,771]\u001b[0m Trial 52 pruned. Trial was pruned at iteration 1.\u001b[0m\n",
      "C:\\Users\\I539756\\.virtualenvs\\202109_TabularPlaygroundSeries-75bSHUOP\\lib\\site-packages\\optuna\\distributions.py:545: UserWarning: The distribution is specified by [0.2, 0.95] and q=0.1, but the range is not divisible by `q`. It will be replaced by [0.2, 0.9].\n",
      "  warnings.warn(\n",
      "\u001b[32m[I 2021-09-06 21:48:28,328]\u001b[0m Trial 53 pruned. Trial was pruned at iteration 0.\u001b[0m\n",
      "C:\\Users\\I539756\\.virtualenvs\\202109_TabularPlaygroundSeries-75bSHUOP\\lib\\site-packages\\optuna\\distributions.py:545: UserWarning: The distribution is specified by [0.2, 0.95] and q=0.1, but the range is not divisible by `q`. It will be replaced by [0.2, 0.9].\n",
      "  warnings.warn(\n",
      "\u001b[32m[I 2021-09-06 21:48:34,256]\u001b[0m Trial 54 pruned. Trial was pruned at iteration 1.\u001b[0m\n",
      "C:\\Users\\I539756\\.virtualenvs\\202109_TabularPlaygroundSeries-75bSHUOP\\lib\\site-packages\\optuna\\distributions.py:545: UserWarning: The distribution is specified by [0.2, 0.95] and q=0.1, but the range is not divisible by `q`. It will be replaced by [0.2, 0.9].\n",
      "  warnings.warn(\n",
      "\u001b[32m[I 2021-09-06 21:48:41,111]\u001b[0m Trial 55 pruned. Trial was pruned at iteration 4.\u001b[0m\n",
      "C:\\Users\\I539756\\.virtualenvs\\202109_TabularPlaygroundSeries-75bSHUOP\\lib\\site-packages\\optuna\\distributions.py:545: UserWarning: The distribution is specified by [0.2, 0.95] and q=0.1, but the range is not divisible by `q`. It will be replaced by [0.2, 0.9].\n",
      "  warnings.warn(\n",
      "\u001b[32m[I 2021-09-06 21:48:47,084]\u001b[0m Trial 56 pruned. Trial was pruned at iteration 1.\u001b[0m\n",
      "C:\\Users\\I539756\\.virtualenvs\\202109_TabularPlaygroundSeries-75bSHUOP\\lib\\site-packages\\optuna\\distributions.py:545: UserWarning: The distribution is specified by [0.2, 0.95] and q=0.1, but the range is not divisible by `q`. It will be replaced by [0.2, 0.9].\n",
      "  warnings.warn(\n",
      "\u001b[32m[I 2021-09-06 21:48:54,347]\u001b[0m Trial 57 pruned. Trial was pruned at iteration 9.\u001b[0m\n",
      "C:\\Users\\I539756\\.virtualenvs\\202109_TabularPlaygroundSeries-75bSHUOP\\lib\\site-packages\\optuna\\distributions.py:545: UserWarning: The distribution is specified by [0.2, 0.95] and q=0.1, but the range is not divisible by `q`. It will be replaced by [0.2, 0.9].\n",
      "  warnings.warn(\n",
      "\u001b[32m[I 2021-09-06 21:48:59,972]\u001b[0m Trial 58 pruned. Trial was pruned at iteration 1.\u001b[0m\n",
      "C:\\Users\\I539756\\.virtualenvs\\202109_TabularPlaygroundSeries-75bSHUOP\\lib\\site-packages\\optuna\\distributions.py:545: UserWarning: The distribution is specified by [0.2, 0.95] and q=0.1, but the range is not divisible by `q`. It will be replaced by [0.2, 0.9].\n",
      "  warnings.warn(\n",
      "\u001b[32m[I 2021-09-06 21:49:05,725]\u001b[0m Trial 59 pruned. Trial was pruned at iteration 0.\u001b[0m\n",
      "C:\\Users\\I539756\\.virtualenvs\\202109_TabularPlaygroundSeries-75bSHUOP\\lib\\site-packages\\optuna\\distributions.py:545: UserWarning: The distribution is specified by [0.2, 0.95] and q=0.1, but the range is not divisible by `q`. It will be replaced by [0.2, 0.9].\n",
      "  warnings.warn(\n",
      "\u001b[32m[I 2021-09-06 21:49:30,805]\u001b[0m Trial 60 pruned. Trial was pruned at iteration 102.\u001b[0m\n",
      "C:\\Users\\I539756\\.virtualenvs\\202109_TabularPlaygroundSeries-75bSHUOP\\lib\\site-packages\\optuna\\distributions.py:545: UserWarning: The distribution is specified by [0.2, 0.95] and q=0.1, but the range is not divisible by `q`. It will be replaced by [0.2, 0.9].\n",
      "  warnings.warn(\n",
      "\u001b[32m[I 2021-09-06 21:49:36,550]\u001b[0m Trial 61 pruned. Trial was pruned at iteration 0.\u001b[0m\n",
      "C:\\Users\\I539756\\.virtualenvs\\202109_TabularPlaygroundSeries-75bSHUOP\\lib\\site-packages\\optuna\\distributions.py:545: UserWarning: The distribution is specified by [0.2, 0.95] and q=0.1, but the range is not divisible by `q`. It will be replaced by [0.2, 0.9].\n",
      "  warnings.warn(\n",
      "\u001b[32m[I 2021-09-06 21:49:42,447]\u001b[0m Trial 62 pruned. Trial was pruned at iteration 1.\u001b[0m\n",
      "C:\\Users\\I539756\\.virtualenvs\\202109_TabularPlaygroundSeries-75bSHUOP\\lib\\site-packages\\optuna\\distributions.py:545: UserWarning: The distribution is specified by [0.2, 0.95] and q=0.1, but the range is not divisible by `q`. It will be replaced by [0.2, 0.9].\n",
      "  warnings.warn(\n",
      "\u001b[32m[I 2021-09-06 21:49:48,137]\u001b[0m Trial 63 pruned. Trial was pruned at iteration 1.\u001b[0m\n",
      "C:\\Users\\I539756\\.virtualenvs\\202109_TabularPlaygroundSeries-75bSHUOP\\lib\\site-packages\\optuna\\distributions.py:545: UserWarning: The distribution is specified by [0.2, 0.95] and q=0.1, but the range is not divisible by `q`. It will be replaced by [0.2, 0.9].\n",
      "  warnings.warn(\n",
      "\u001b[32m[I 2021-09-06 21:49:54,465]\u001b[0m Trial 64 pruned. Trial was pruned at iteration 4.\u001b[0m\n",
      "C:\\Users\\I539756\\.virtualenvs\\202109_TabularPlaygroundSeries-75bSHUOP\\lib\\site-packages\\optuna\\distributions.py:545: UserWarning: The distribution is specified by [0.2, 0.95] and q=0.1, but the range is not divisible by `q`. It will be replaced by [0.2, 0.9].\n",
      "  warnings.warn(\n",
      "\u001b[32m[I 2021-09-06 21:50:00,434]\u001b[0m Trial 65 pruned. Trial was pruned at iteration 1.\u001b[0m\n",
      "C:\\Users\\I539756\\.virtualenvs\\202109_TabularPlaygroundSeries-75bSHUOP\\lib\\site-packages\\optuna\\distributions.py:545: UserWarning: The distribution is specified by [0.2, 0.95] and q=0.1, but the range is not divisible by `q`. It will be replaced by [0.2, 0.9].\n",
      "  warnings.warn(\n",
      "\u001b[32m[I 2021-09-06 21:50:06,041]\u001b[0m Trial 66 pruned. Trial was pruned at iteration 0.\u001b[0m\n",
      "C:\\Users\\I539756\\.virtualenvs\\202109_TabularPlaygroundSeries-75bSHUOP\\lib\\site-packages\\optuna\\distributions.py:545: UserWarning: The distribution is specified by [0.2, 0.95] and q=0.1, but the range is not divisible by `q`. It will be replaced by [0.2, 0.9].\n",
      "  warnings.warn(\n",
      "\u001b[32m[I 2021-09-06 21:50:11,615]\u001b[0m Trial 67 pruned. Trial was pruned at iteration 1.\u001b[0m\n",
      "C:\\Users\\I539756\\.virtualenvs\\202109_TabularPlaygroundSeries-75bSHUOP\\lib\\site-packages\\optuna\\distributions.py:545: UserWarning: The distribution is specified by [0.2, 0.95] and q=0.1, but the range is not divisible by `q`. It will be replaced by [0.2, 0.9].\n",
      "  warnings.warn(\n",
      "\u001b[32m[I 2021-09-06 21:50:17,694]\u001b[0m Trial 68 pruned. Trial was pruned at iteration 1.\u001b[0m\n",
      "C:\\Users\\I539756\\.virtualenvs\\202109_TabularPlaygroundSeries-75bSHUOP\\lib\\site-packages\\optuna\\distributions.py:545: UserWarning: The distribution is specified by [0.2, 0.95] and q=0.1, but the range is not divisible by `q`. It will be replaced by [0.2, 0.9].\n",
      "  warnings.warn(\n",
      "\u001b[32m[I 2021-09-06 21:50:23,281]\u001b[0m Trial 69 pruned. Trial was pruned at iteration 0.\u001b[0m\n",
      "C:\\Users\\I539756\\.virtualenvs\\202109_TabularPlaygroundSeries-75bSHUOP\\lib\\site-packages\\optuna\\distributions.py:545: UserWarning: The distribution is specified by [0.2, 0.95] and q=0.1, but the range is not divisible by `q`. It will be replaced by [0.2, 0.9].\n",
      "  warnings.warn(\n",
      "\u001b[32m[I 2021-09-06 21:50:29,361]\u001b[0m Trial 70 pruned. Trial was pruned at iteration 0.\u001b[0m\n",
      "C:\\Users\\I539756\\.virtualenvs\\202109_TabularPlaygroundSeries-75bSHUOP\\lib\\site-packages\\optuna\\distributions.py:545: UserWarning: The distribution is specified by [0.2, 0.95] and q=0.1, but the range is not divisible by `q`. It will be replaced by [0.2, 0.9].\n",
      "  warnings.warn(\n",
      "\u001b[32m[I 2021-09-06 21:50:35,494]\u001b[0m Trial 71 pruned. Trial was pruned at iteration 1.\u001b[0m\n",
      "C:\\Users\\I539756\\.virtualenvs\\202109_TabularPlaygroundSeries-75bSHUOP\\lib\\site-packages\\optuna\\distributions.py:545: UserWarning: The distribution is specified by [0.2, 0.95] and q=0.1, but the range is not divisible by `q`. It will be replaced by [0.2, 0.9].\n",
      "  warnings.warn(\n",
      "\u001b[32m[I 2021-09-06 21:50:41,389]\u001b[0m Trial 72 pruned. Trial was pruned at iteration 3.\u001b[0m\n",
      "C:\\Users\\I539756\\.virtualenvs\\202109_TabularPlaygroundSeries-75bSHUOP\\lib\\site-packages\\optuna\\distributions.py:545: UserWarning: The distribution is specified by [0.2, 0.95] and q=0.1, but the range is not divisible by `q`. It will be replaced by [0.2, 0.9].\n",
      "  warnings.warn(\n",
      "\u001b[32m[I 2021-09-06 21:50:51,478]\u001b[0m Trial 73 pruned. Trial was pruned at iteration 1.\u001b[0m\n",
      "C:\\Users\\I539756\\.virtualenvs\\202109_TabularPlaygroundSeries-75bSHUOP\\lib\\site-packages\\optuna\\distributions.py:545: UserWarning: The distribution is specified by [0.2, 0.95] and q=0.1, but the range is not divisible by `q`. It will be replaced by [0.2, 0.9].\n",
      "  warnings.warn(\n",
      "\u001b[32m[I 2021-09-06 21:50:58,326]\u001b[0m Trial 74 pruned. Trial was pruned at iteration 1.\u001b[0m\n",
      "C:\\Users\\I539756\\.virtualenvs\\202109_TabularPlaygroundSeries-75bSHUOP\\lib\\site-packages\\optuna\\distributions.py:545: UserWarning: The distribution is specified by [0.2, 0.95] and q=0.1, but the range is not divisible by `q`. It will be replaced by [0.2, 0.9].\n",
      "  warnings.warn(\n",
      "\u001b[32m[I 2021-09-06 21:51:04,077]\u001b[0m Trial 75 pruned. Trial was pruned at iteration 1.\u001b[0m\n",
      "C:\\Users\\I539756\\.virtualenvs\\202109_TabularPlaygroundSeries-75bSHUOP\\lib\\site-packages\\optuna\\distributions.py:545: UserWarning: The distribution is specified by [0.2, 0.95] and q=0.1, but the range is not divisible by `q`. It will be replaced by [0.2, 0.9].\n",
      "  warnings.warn(\n",
      "\u001b[32m[I 2021-09-06 21:51:11,113]\u001b[0m Trial 76 pruned. Trial was pruned at iteration 4.\u001b[0m\n",
      "C:\\Users\\I539756\\.virtualenvs\\202109_TabularPlaygroundSeries-75bSHUOP\\lib\\site-packages\\optuna\\distributions.py:545: UserWarning: The distribution is specified by [0.2, 0.95] and q=0.1, but the range is not divisible by `q`. It will be replaced by [0.2, 0.9].\n",
      "  warnings.warn(\n",
      "\u001b[32m[I 2021-09-06 21:51:17,992]\u001b[0m Trial 77 pruned. Trial was pruned at iteration 0.\u001b[0m\n",
      "C:\\Users\\I539756\\.virtualenvs\\202109_TabularPlaygroundSeries-75bSHUOP\\lib\\site-packages\\optuna\\distributions.py:545: UserWarning: The distribution is specified by [0.2, 0.95] and q=0.1, but the range is not divisible by `q`. It will be replaced by [0.2, 0.9].\n",
      "  warnings.warn(\n",
      "\u001b[32m[I 2021-09-06 21:51:23,703]\u001b[0m Trial 78 pruned. Trial was pruned at iteration 0.\u001b[0m\n",
      "C:\\Users\\I539756\\.virtualenvs\\202109_TabularPlaygroundSeries-75bSHUOP\\lib\\site-packages\\optuna\\distributions.py:545: UserWarning: The distribution is specified by [0.2, 0.95] and q=0.1, but the range is not divisible by `q`. It will be replaced by [0.2, 0.9].\n",
      "  warnings.warn(\n",
      "\u001b[32m[I 2021-09-06 21:51:29,256]\u001b[0m Trial 79 pruned. Trial was pruned at iteration 0.\u001b[0m\n",
      "C:\\Users\\I539756\\.virtualenvs\\202109_TabularPlaygroundSeries-75bSHUOP\\lib\\site-packages\\optuna\\distributions.py:545: UserWarning: The distribution is specified by [0.2, 0.95] and q=0.1, but the range is not divisible by `q`. It will be replaced by [0.2, 0.9].\n",
      "  warnings.warn(\n",
      "\u001b[32m[I 2021-09-06 21:51:35,886]\u001b[0m Trial 80 pruned. Trial was pruned at iteration 1.\u001b[0m\n",
      "C:\\Users\\I539756\\.virtualenvs\\202109_TabularPlaygroundSeries-75bSHUOP\\lib\\site-packages\\optuna\\distributions.py:545: UserWarning: The distribution is specified by [0.2, 0.95] and q=0.1, but the range is not divisible by `q`. It will be replaced by [0.2, 0.9].\n",
      "  warnings.warn(\n",
      "\u001b[32m[I 2021-09-06 21:51:42,164]\u001b[0m Trial 81 pruned. Trial was pruned at iteration 4.\u001b[0m\n",
      "C:\\Users\\I539756\\.virtualenvs\\202109_TabularPlaygroundSeries-75bSHUOP\\lib\\site-packages\\optuna\\distributions.py:545: UserWarning: The distribution is specified by [0.2, 0.95] and q=0.1, but the range is not divisible by `q`. It will be replaced by [0.2, 0.9].\n",
      "  warnings.warn(\n",
      "\u001b[32m[I 2021-09-06 21:51:48,241]\u001b[0m Trial 82 pruned. Trial was pruned at iteration 4.\u001b[0m\n",
      "C:\\Users\\I539756\\.virtualenvs\\202109_TabularPlaygroundSeries-75bSHUOP\\lib\\site-packages\\optuna\\distributions.py:545: UserWarning: The distribution is specified by [0.2, 0.95] and q=0.1, but the range is not divisible by `q`. It will be replaced by [0.2, 0.9].\n",
      "  warnings.warn(\n",
      "\u001b[32m[I 2021-09-06 21:51:54,531]\u001b[0m Trial 83 pruned. Trial was pruned at iteration 1.\u001b[0m\n",
      "C:\\Users\\I539756\\.virtualenvs\\202109_TabularPlaygroundSeries-75bSHUOP\\lib\\site-packages\\optuna\\distributions.py:545: UserWarning: The distribution is specified by [0.2, 0.95] and q=0.1, but the range is not divisible by `q`. It will be replaced by [0.2, 0.9].\n",
      "  warnings.warn(\n",
      "\u001b[32m[I 2021-09-06 21:51:59,976]\u001b[0m Trial 84 pruned. Trial was pruned at iteration 0.\u001b[0m\n",
      "C:\\Users\\I539756\\.virtualenvs\\202109_TabularPlaygroundSeries-75bSHUOP\\lib\\site-packages\\optuna\\distributions.py:545: UserWarning: The distribution is specified by [0.2, 0.95] and q=0.1, but the range is not divisible by `q`. It will be replaced by [0.2, 0.9].\n",
      "  warnings.warn(\n",
      "\u001b[32m[I 2021-09-06 21:52:05,736]\u001b[0m Trial 85 pruned. Trial was pruned at iteration 1.\u001b[0m\n",
      "C:\\Users\\I539756\\.virtualenvs\\202109_TabularPlaygroundSeries-75bSHUOP\\lib\\site-packages\\optuna\\distributions.py:545: UserWarning: The distribution is specified by [0.2, 0.95] and q=0.1, but the range is not divisible by `q`. It will be replaced by [0.2, 0.9].\n",
      "  warnings.warn(\n",
      "\u001b[32m[I 2021-09-06 21:52:11,596]\u001b[0m Trial 86 pruned. Trial was pruned at iteration 0.\u001b[0m\n",
      "C:\\Users\\I539756\\.virtualenvs\\202109_TabularPlaygroundSeries-75bSHUOP\\lib\\site-packages\\optuna\\distributions.py:545: UserWarning: The distribution is specified by [0.2, 0.95] and q=0.1, but the range is not divisible by `q`. It will be replaced by [0.2, 0.9].\n",
      "  warnings.warn(\n",
      "\u001b[32m[I 2021-09-06 21:52:17,199]\u001b[0m Trial 87 pruned. Trial was pruned at iteration 0.\u001b[0m\n",
      "C:\\Users\\I539756\\.virtualenvs\\202109_TabularPlaygroundSeries-75bSHUOP\\lib\\site-packages\\optuna\\distributions.py:545: UserWarning: The distribution is specified by [0.2, 0.95] and q=0.1, but the range is not divisible by `q`. It will be replaced by [0.2, 0.9].\n",
      "  warnings.warn(\n",
      "\u001b[32m[I 2021-09-06 21:52:22,736]\u001b[0m Trial 88 pruned. Trial was pruned at iteration 1.\u001b[0m\n",
      "C:\\Users\\I539756\\.virtualenvs\\202109_TabularPlaygroundSeries-75bSHUOP\\lib\\site-packages\\optuna\\distributions.py:545: UserWarning: The distribution is specified by [0.2, 0.95] and q=0.1, but the range is not divisible by `q`. It will be replaced by [0.2, 0.9].\n",
      "  warnings.warn(\n",
      "\u001b[32m[I 2021-09-06 21:52:28,650]\u001b[0m Trial 89 pruned. Trial was pruned at iteration 0.\u001b[0m\n",
      "C:\\Users\\I539756\\.virtualenvs\\202109_TabularPlaygroundSeries-75bSHUOP\\lib\\site-packages\\optuna\\distributions.py:545: UserWarning: The distribution is specified by [0.2, 0.95] and q=0.1, but the range is not divisible by `q`. It will be replaced by [0.2, 0.9].\n",
      "  warnings.warn(\n",
      "\u001b[32m[I 2021-09-06 21:52:34,513]\u001b[0m Trial 90 pruned. Trial was pruned at iteration 4.\u001b[0m\n",
      "C:\\Users\\I539756\\.virtualenvs\\202109_TabularPlaygroundSeries-75bSHUOP\\lib\\site-packages\\optuna\\distributions.py:545: UserWarning: The distribution is specified by [0.2, 0.95] and q=0.1, but the range is not divisible by `q`. It will be replaced by [0.2, 0.9].\n",
      "  warnings.warn(\n",
      "\u001b[32m[I 2021-09-06 21:52:40,071]\u001b[0m Trial 91 pruned. Trial was pruned at iteration 1.\u001b[0m\n",
      "C:\\Users\\I539756\\.virtualenvs\\202109_TabularPlaygroundSeries-75bSHUOP\\lib\\site-packages\\optuna\\distributions.py:545: UserWarning: The distribution is specified by [0.2, 0.95] and q=0.1, but the range is not divisible by `q`. It will be replaced by [0.2, 0.9].\n",
      "  warnings.warn(\n",
      "\u001b[32m[I 2021-09-06 21:52:46,024]\u001b[0m Trial 92 pruned. Trial was pruned at iteration 0.\u001b[0m\n",
      "C:\\Users\\I539756\\.virtualenvs\\202109_TabularPlaygroundSeries-75bSHUOP\\lib\\site-packages\\optuna\\distributions.py:545: UserWarning: The distribution is specified by [0.2, 0.95] and q=0.1, but the range is not divisible by `q`. It will be replaced by [0.2, 0.9].\n",
      "  warnings.warn(\n",
      "\u001b[32m[I 2021-09-06 21:52:51,540]\u001b[0m Trial 93 pruned. Trial was pruned at iteration 1.\u001b[0m\n",
      "C:\\Users\\I539756\\.virtualenvs\\202109_TabularPlaygroundSeries-75bSHUOP\\lib\\site-packages\\optuna\\distributions.py:545: UserWarning: The distribution is specified by [0.2, 0.95] and q=0.1, but the range is not divisible by `q`. It will be replaced by [0.2, 0.9].\n",
      "  warnings.warn(\n",
      "\u001b[32m[I 2021-09-06 21:52:57,300]\u001b[0m Trial 94 pruned. Trial was pruned at iteration 0.\u001b[0m\n",
      "C:\\Users\\I539756\\.virtualenvs\\202109_TabularPlaygroundSeries-75bSHUOP\\lib\\site-packages\\optuna\\distributions.py:545: UserWarning: The distribution is specified by [0.2, 0.95] and q=0.1, but the range is not divisible by `q`. It will be replaced by [0.2, 0.9].\n",
      "  warnings.warn(\n",
      "\u001b[32m[I 2021-09-06 21:53:03,356]\u001b[0m Trial 95 pruned. Trial was pruned at iteration 0.\u001b[0m\n",
      "C:\\Users\\I539756\\.virtualenvs\\202109_TabularPlaygroundSeries-75bSHUOP\\lib\\site-packages\\optuna\\distributions.py:545: UserWarning: The distribution is specified by [0.2, 0.95] and q=0.1, but the range is not divisible by `q`. It will be replaced by [0.2, 0.9].\n",
      "  warnings.warn(\n",
      "\u001b[32m[I 2021-09-06 21:53:08,964]\u001b[0m Trial 96 pruned. Trial was pruned at iteration 0.\u001b[0m\n",
      "C:\\Users\\I539756\\.virtualenvs\\202109_TabularPlaygroundSeries-75bSHUOP\\lib\\site-packages\\optuna\\distributions.py:545: UserWarning: The distribution is specified by [0.2, 0.95] and q=0.1, but the range is not divisible by `q`. It will be replaced by [0.2, 0.9].\n",
      "  warnings.warn(\n",
      "\u001b[32m[I 2021-09-06 21:53:14,662]\u001b[0m Trial 97 pruned. Trial was pruned at iteration 1.\u001b[0m\n",
      "C:\\Users\\I539756\\.virtualenvs\\202109_TabularPlaygroundSeries-75bSHUOP\\lib\\site-packages\\optuna\\distributions.py:545: UserWarning: The distribution is specified by [0.2, 0.95] and q=0.1, but the range is not divisible by `q`. It will be replaced by [0.2, 0.9].\n",
      "  warnings.warn(\n",
      "\u001b[32m[I 2021-09-06 21:53:22,176]\u001b[0m Trial 98 pruned. Trial was pruned at iteration 9.\u001b[0m\n",
      "C:\\Users\\I539756\\.virtualenvs\\202109_TabularPlaygroundSeries-75bSHUOP\\lib\\site-packages\\optuna\\distributions.py:545: UserWarning: The distribution is specified by [0.2, 0.95] and q=0.1, but the range is not divisible by `q`. It will be replaced by [0.2, 0.9].\n",
      "  warnings.warn(\n",
      "\u001b[32m[I 2021-09-06 21:53:28,469]\u001b[0m Trial 99 pruned. Trial was pruned at iteration 4.\u001b[0m\n"
     ]
    }
   ],
   "source": [
    "study = optuna.create_study(direction=\"maximize\", study_name=\"LGBM Classifier\")\n",
    "func = lambda trial: objective(trial, X_w_nan, y)\n",
    "study.optimize(func, n_trials=100)"
   ]
  },
  {
   "cell_type": "code",
   "execution_count": 61,
   "id": "f638970c-b642-4201-8153-1b214a3b09af",
   "metadata": {},
   "outputs": [
    {
     "name": "stdout",
     "output_type": "stream",
     "text": [
      "\tBest value (AUC): 0.81630\n",
      "\tBest params:\n",
      "\t\tdevice_type: gpu\n",
      "\t\tn_estimators: 9590\n",
      "\t\tlearning_rate: 0.18227838793671425\n",
      "\t\tnum_leaves: 760\n",
      "\t\tmax_depth: 5\n",
      "\t\tmin_data_in_leaf: 700\n",
      "\t\tlambda_l1: 10\n",
      "\t\tlambda_l2: 25\n",
      "\t\tmin_gain_to_split: 5.782744082905875\n",
      "\t\tbagging_fraction: 0.6000000000000001\n",
      "\t\tbagging_freq: 1\n",
      "\t\tfeature_fraction: 0.9\n"
     ]
    }
   ],
   "source": [
    "print(f\"\\tBest value (AUC): {study.best_value:.5f}\")\n",
    "print(f\"\\tBest params:\")\n",
    "\n",
    "for key, value in study.best_params.items():\n",
    "    print(f\"\\t\\t{key}: {value}\")"
   ]
  },
  {
   "cell_type": "code",
   "execution_count": null,
   "id": "2a79663d-f5f7-4f90-abbe-4f3d8240819c",
   "metadata": {},
   "outputs": [],
   "source": [
    "param_grid = {\n",
    "        \"device_type\": 'gpu',\n",
    "        \"n_estimators\": 9590,\n",
    "        \"learning_rate\": 0.18227838793671425,\n",
    "        \"num_leaves\": 760,\n",
    "        \"max_depth\": 5,\n",
    "        \"min_data_in_leaf\": 700,\n",
    "        \"lambda_l1\": 10,\n",
    "        \"lambda_l2\": 25,\n",
    "        \"min_gain_to_split\": 5.782744082905875,\n",
    "        \"bagging_fraction\": 0.6,\n",
    "        \"bagging_freq\": 1,\n",
    "        \"feature_fraction\": 0.9\n",
    "    }\n"
   ]
  },
  {
   "cell_type": "code",
   "execution_count": 62,
   "id": "a20f7804-9a02-43eb-a6cd-deacf532c5fb",
   "metadata": {},
   "outputs": [
    {
     "data": {
      "text/plain": [
       "['Models/default_lgbm_model_w_nan_count_tuned2.joblib']"
      ]
     },
     "execution_count": 62,
     "metadata": {},
     "output_type": "execute_result"
    }
   ],
   "source": [
    "# Train model with best hyperparameters\n",
    "model = lgbm.LGBMClassifier(objective=\"binary\")\n",
    "model.set_params(**study.best_params)\n",
    "model.fit(X_w_nan, y)\n",
    "dump(model, 'Models/default_lgbm_model_w_nan_count_tuned2.joblib') "
   ]
  },
  {
   "cell_type": "code",
   "execution_count": 63,
   "id": "72cf3e32-e6eb-4d51-b115-23d41f52ca81",
   "metadata": {},
   "outputs": [],
   "source": [
    "y_pred = model.predict_proba(test_data_w_nan)\n",
    "sample_submission.claim = y_pred[:, 1]\n",
    "sample_submission.to_csv(\"Submissions/default_lgbm_model_w_nan_count_tuned2.csv\")"
   ]
  },
  {
   "cell_type": "code",
   "execution_count": 64,
   "id": "12e807e1-4256-4ecf-a496-0bbe6fa2140d",
   "metadata": {},
   "outputs": [
    {
     "data": {
      "text/plain": [
       "Text(0.5, 1.0, 'Top 20 most important features')"
      ]
     },
     "execution_count": 64,
     "metadata": {},
     "output_type": "execute_result"
    },
    {
     "data": {
      "image/png": "[encoded data removed]",
      "text/plain": [
       "<Figure size 432x288 with 1 Axes>"
      ]
     },
     "metadata": {
      "needs_background": "light"
     },
     "output_type": "display_data"
    }
   ],
   "source": [
    "feature_importance = pd.DataFrame(columns = [\"Feature\", \"Importance\"])\n",
    "feature_importance.Feature = X_w_nan.columns\n",
    "feature_importance.Importance = model.feature_importances_\n",
    "feature_importance = feature_importance.sort_values(\"Importance\", ascending = False)\n",
    "\n",
    "_ = sns.barplot(data = feature_importance.iloc[:20], x = 'Importance', y = 'Feature')\n",
    "plt.title(\"Top 20 most important features\")"
   ]
  },
  {
   "cell_type": "code",
   "execution_count": 72,
   "id": "c6afc374-8b29-488e-9e06-471623dc31c0",
   "metadata": {},
   "outputs": [
    {
     "data": {
      "text/plain": [
       "Text(0.5, 1.0, 'Top 20 most important features')"
      ]
     },
     "execution_count": 72,
     "metadata": {},
     "output_type": "execute_result"
    },
    {
     "data": {
      "image/png": "[encoded data removed]",
      "text/plain": [
       "<Figure size 720x2160 with 1 Axes>"
      ]
     },
     "metadata": {
      "needs_background": "light"
     },
     "output_type": "display_data"
    }
   ],
   "source": [
    "feature_importance = pd.DataFrame(columns = [\"Feature\", \"Importance\"])\n",
    "feature_importance.Feature = X_w_nan.columns\n",
    "feature_importance.Importance = model.feature_importances_\n",
    "feature_importance = feature_importance.sort_values(\"Importance\", ascending = False)\n",
    "\n",
    "plt.figure(figsize=(10, 30))\n",
    "_ = sns.barplot(data = feature_importance, x = 'Importance', y = 'Feature')\n",
    "plt.title(\"Top 20 most important features\")"
   ]
  },
  {
   "cell_type": "markdown",
   "id": "e2da061d-0dd5-4349-9b6c-19e14a5a6b3a",
   "metadata": {},
   "source": [
    "# Pseudo-labeling with threshold 0.9"
   ]
  },
  {
   "cell_type": "code",
   "execution_count": 23,
   "id": "2d392db3-6cb3-46ff-a110-2832e08d16ae",
   "metadata": {},
   "outputs": [
    {
     "data": {
      "text/plain": [
       "(36095, 120)"
      ]
     },
     "execution_count": 23,
     "metadata": {},
     "output_type": "execute_result"
    }
   ],
   "source": [
    "# Select the samples in the test set that were predicted with >= 0.9 probability \n",
    "\n",
    "high_probability_test_samples = test_data_w_nan.copy()\n",
    "high_probability_test_samples[\"claim\"] = y_pred.argmax(axis = 1)\n",
    "high_probability_test_samples = high_probability_test_samples[y_pred.max(axis = 1) >= 0.9]\n",
    "high_probability_test_samples.shape"
   ]
  },
  {
   "cell_type": "code",
   "execution_count": 26,
   "id": "92fef360-b51a-4d8a-ad9d-61e32ae710a0",
   "metadata": {},
   "outputs": [
    {
     "data": {
      "text/plain": [
       "(994014, 119)"
      ]
     },
     "execution_count": 26,
     "metadata": {},
     "output_type": "execute_result"
    }
   ],
   "source": [
    "X_w_nan_w_pseudo_labels = pd.concat([X_w_nan, high_probability_test_samples.drop(\"claim\", axis = 1)])\n",
    "X_w_nan_w_pseudo_labels.shape"
   ]
  },
  {
   "cell_type": "code",
   "execution_count": 27,
   "id": "391868f6-a35a-47a7-830c-773a365f2946",
   "metadata": {},
   "outputs": [
    {
     "data": {
      "text/plain": [
       "(994014,)"
      ]
     },
     "execution_count": 27,
     "metadata": {},
     "output_type": "execute_result"
    }
   ],
   "source": [
    "y_w_pseudo_labels = pd.concat([y, high_probability_test_samples.claim.copy()])\n",
    "y_w_pseudo_labels.shape"
   ]
  },
  {
   "cell_type": "code",
   "execution_count": 28,
   "id": "3b8d1b2c-3833-422e-80c2-061c6a7fa044",
   "metadata": {},
   "outputs": [
    {
     "name": "stdout",
     "output_type": "stream",
     "text": [
      "[LightGBM] [Warning] feature_fraction is set=0.9, colsample_bytree=1.0 will be ignored. Current value: feature_fraction=0.9\n",
      "[LightGBM] [Warning] min_data_in_leaf is set=700, min_child_samples=20 will be ignored. Current value: min_data_in_leaf=700\n",
      "[LightGBM] [Warning] min_gain_to_split is set=5.782744082905875, min_split_gain=0.0 will be ignored. Current value: min_gain_to_split=5.782744082905875\n",
      "[LightGBM] [Warning] lambda_l1 is set=10, reg_alpha=0.0 will be ignored. Current value: lambda_l1=10\n",
      "[LightGBM] [Warning] bagging_fraction is set=0.6, subsample=1.0 will be ignored. Current value: bagging_fraction=0.6\n",
      "[LightGBM] [Warning] lambda_l2 is set=25, reg_lambda=0.0 will be ignored. Current value: lambda_l2=25\n",
      "[LightGBM] [Warning] bagging_freq is set=1, subsample_freq=0 will be ignored. Current value: bagging_freq=1\n"
     ]
    },
    {
     "data": {
      "text/plain": [
       "['Models/default_lgbm_model_w_nan_count_tuned2_w_pseudo_labels.joblib']"
      ]
     },
     "execution_count": 28,
     "metadata": {},
     "output_type": "execute_result"
    }
   ],
   "source": [
    "# Train model with best hyperparameters\n",
    "model_w_pseudo_labels = lgbm.LGBMClassifier(objective=\"binary\")\n",
    "model_w_pseudo_labels.set_params(**{\n",
    "        \"device_type\": 'gpu',\n",
    "        \"n_estimators\": 9590,\n",
    "        \"learning_rate\": 0.18227838793671425,\n",
    "        \"num_leaves\": 760,\n",
    "        \"max_depth\": 5,\n",
    "        \"min_data_in_leaf\": 700,\n",
    "        \"lambda_l1\": 10,\n",
    "        \"lambda_l2\": 25,\n",
    "        \"min_gain_to_split\": 5.782744082905875,\n",
    "        \"bagging_fraction\": 0.6,\n",
    "        \"bagging_freq\": 1,\n",
    "        \"feature_fraction\": 0.9\n",
    "    })\n",
    "model_w_pseudo_labels.fit(X_w_nan_w_pseudo_labels, y_w_pseudo_labels)\n",
    "dump(model, 'Models/default_lgbm_model_w_nan_count_tuned2_w_pseudo_labels.joblib') "
   ]
  },
  {
   "cell_type": "code",
   "execution_count": 29,
   "id": "b5fa4386-e2e0-4e89-9cd2-3f40e7617fda",
   "metadata": {},
   "outputs": [],
   "source": [
    "y_pred_w_pseudo_labels = model.predict_proba(test_data_w_nan)\n",
    "sample_submission.claim = y_pred_w_pseudo_labels[:, 1]\n",
    "sample_submission.to_csv(\"Submissions/default_lgbm_model_w_nan_count_tuned2_w_pseudo_labels.csv\")"
   ]
  },
  {
   "cell_type": "markdown",
   "id": "c981d91a-5dbb-4df3-abe9-5cf7d80a00a0",
   "metadata": {},
   "source": [
    "# Pseudo-labeling with full test data"
   ]
  },
  {
   "cell_type": "code",
   "execution_count": 30,
   "id": "7077e8b6-3f6e-47e1-a2bb-b924c5cd1244",
   "metadata": {},
   "outputs": [
    {
     "data": {
      "text/plain": [
       "(493474, 120)"
      ]
     },
     "execution_count": 30,
     "metadata": {},
     "output_type": "execute_result"
    }
   ],
   "source": [
    "# Select the samples in the test set that were predicted with >= 0.9 probability \n",
    "\n",
    "test_w_pseudo_labels = test_data_w_nan.copy()\n",
    "test_w_pseudo_labels[\"claim\"] = y_pred.argmax(axis = 1)\n",
    "test_w_pseudo_labels.shape"
   ]
  },
  {
   "cell_type": "code",
   "execution_count": 31,
   "id": "b148d3aa-2866-4a8a-9eb9-bb7dc9cc071d",
   "metadata": {},
   "outputs": [
    {
     "data": {
      "text/plain": [
       "(1451393, 119)"
      ]
     },
     "execution_count": 31,
     "metadata": {},
     "output_type": "execute_result"
    }
   ],
   "source": [
    "X_w_nan_w_pseudo_labels = pd.concat([X_w_nan, test_w_pseudo_labels.drop(\"claim\", axis = 1)])\n",
    "X_w_nan_w_pseudo_labels.shape"
   ]
  },
  {
   "cell_type": "code",
   "execution_count": 32,
   "id": "f8f4f19a-bb5c-45eb-975f-6bfc9a705e51",
   "metadata": {},
   "outputs": [
    {
     "data": {
      "text/plain": [
       "(1451393,)"
      ]
     },
     "execution_count": 32,
     "metadata": {},
     "output_type": "execute_result"
    }
   ],
   "source": [
    "y_w_pseudo_labels = pd.concat([y, test_w_pseudo_labels.claim.copy()])\n",
    "y_w_pseudo_labels.shape"
   ]
  },
  {
   "cell_type": "code",
   "execution_count": 33,
   "id": "a5cd9205-a7a9-4190-b8b1-677ada7598e3",
   "metadata": {},
   "outputs": [
    {
     "name": "stdout",
     "output_type": "stream",
     "text": [
      "[LightGBM] [Warning] feature_fraction is set=0.9, colsample_bytree=1.0 will be ignored. Current value: feature_fraction=0.9\n",
      "[LightGBM] [Warning] min_data_in_leaf is set=700, min_child_samples=20 will be ignored. Current value: min_data_in_leaf=700\n",
      "[LightGBM] [Warning] min_gain_to_split is set=5.782744082905875, min_split_gain=0.0 will be ignored. Current value: min_gain_to_split=5.782744082905875\n",
      "[LightGBM] [Warning] lambda_l1 is set=10, reg_alpha=0.0 will be ignored. Current value: lambda_l1=10\n",
      "[LightGBM] [Warning] bagging_fraction is set=0.6, subsample=1.0 will be ignored. Current value: bagging_fraction=0.6\n",
      "[LightGBM] [Warning] lambda_l2 is set=25, reg_lambda=0.0 will be ignored. Current value: lambda_l2=25\n",
      "[LightGBM] [Warning] bagging_freq is set=1, subsample_freq=0 will be ignored. Current value: bagging_freq=1\n"
     ]
    },
    {
     "data": {
      "text/plain": [
       "['Models/default_lgbm_model_w_nan_count_tuned2_w_full_pseudo_labels.joblib']"
      ]
     },
     "execution_count": 33,
     "metadata": {},
     "output_type": "execute_result"
    }
   ],
   "source": [
    "# Train model with best hyperparameters\n",
    "model_w_pseudo_labels = lgbm.LGBMClassifier(objective=\"binary\")\n",
    "model_w_pseudo_labels.set_params(**{\n",
    "        \"device_type\": 'gpu',\n",
    "        \"n_estimators\": 9590,\n",
    "        \"learning_rate\": 0.18227838793671425,\n",
    "        \"num_leaves\": 760,\n",
    "        \"max_depth\": 5,\n",
    "        \"min_data_in_leaf\": 700,\n",
    "        \"lambda_l1\": 10,\n",
    "        \"lambda_l2\": 25,\n",
    "        \"min_gain_to_split\": 5.782744082905875,\n",
    "        \"bagging_fraction\": 0.6,\n",
    "        \"bagging_freq\": 1,\n",
    "        \"feature_fraction\": 0.9\n",
    "    })\n",
    "model_w_pseudo_labels.fit(X_w_nan_w_pseudo_labels, y_w_pseudo_labels)\n",
    "dump(model, 'Models/default_lgbm_model_w_nan_count_tuned2_w_full_pseudo_labels.joblib') "
   ]
  },
  {
   "cell_type": "code",
   "execution_count": 34,
   "id": "eda792ab-fa5c-409a-a329-3bee69b3e3b6",
   "metadata": {},
   "outputs": [],
   "source": [
    "y_pred_w_pseudo_labels = model.predict_proba(test_data_w_nan)\n",
    "sample_submission.claim = y_pred_w_pseudo_labels[:, 1]\n",
    "sample_submission.to_csv(\"Submissions/default_lgbm_model_w_nan_count_tuned2_w_full_pseudo_labels.csv\")"
   ]
  },
  {
   "cell_type": "markdown",
   "id": "6d082b9e-4748-43a9-8c76-111d5ff9da3e",
   "metadata": {},
   "source": [
    "## Tuning"
   ]
  },
  {
   "cell_type": "code",
   "execution_count": 37,
   "id": "b29db6cb-e4f5-4d13-8742-b96ba62b0416",
   "metadata": {
    "tags": []
   },
   "outputs": [
    {
     "name": "stderr",
     "output_type": "stream",
     "text": [
      "\u001b[32m[I 2021-09-07 10:35:28,840]\u001b[0m A new study created in memory with name: LGBM Classifier With Pseudo Labels\u001b[0m\n",
      "C:\\Users\\I539756\\.virtualenvs\\202109_TabularPlaygroundSeries-75bSHUOP\\lib\\site-packages\\optuna\\distributions.py:545: UserWarning: The distribution is specified by [0.2, 0.95] and q=0.1, but the range is not divisible by `q`. It will be replaced by [0.2, 0.9].\n",
      "  warnings.warn(\n"
     ]
    },
    {
     "name": "stdout",
     "output_type": "stream",
     "text": [
      "[LightGBM] [Warning] feature_fraction is set=0.7, colsample_bytree=1.0 will be ignored. Current value: feature_fraction=0.7\n",
      "[LightGBM] [Warning] min_data_in_leaf is set=7000, min_child_samples=20 will be ignored. Current value: min_data_in_leaf=7000\n",
      "[LightGBM] [Warning] min_gain_to_split is set=3.5967197060865406, min_split_gain=0.0 will be ignored. Current value: min_gain_to_split=3.5967197060865406\n",
      "[LightGBM] [Warning] lambda_l1 is set=75, reg_alpha=0.0 will be ignored. Current value: lambda_l1=75\n",
      "[LightGBM] [Warning] bagging_fraction is set=0.30000000000000004, subsample=1.0 will be ignored. Current value: bagging_fraction=0.30000000000000004\n",
      "[LightGBM] [Warning] lambda_l2 is set=85, reg_lambda=0.0 will be ignored. Current value: lambda_l2=85\n",
      "[LightGBM] [Warning] bagging_freq is set=1, subsample_freq=0 will be ignored. Current value: bagging_freq=1\n"
     ]
    },
    {
     "name": "stderr",
     "output_type": "stream",
     "text": [
      "\u001b[32m[I 2021-09-07 10:41:24,265]\u001b[0m Trial 0 finished with value: 0.8848968874995462 and parameters: {'device_type': 'gpu', 'n_estimators': 1323, 'learning_rate': 0.030254835153624253, 'num_leaves': 2480, 'max_depth': 11, 'min_data_in_leaf': 7000, 'lambda_l1': 75, 'lambda_l2': 85, 'min_gain_to_split': 3.5967197060865406, 'bagging_fraction': 0.30000000000000004, 'bagging_freq': 1, 'feature_fraction': 0.7}. Best is trial 0 with value: 0.8848968874995462.\u001b[0m\n",
      "C:\\Users\\I539756\\.virtualenvs\\202109_TabularPlaygroundSeries-75bSHUOP\\lib\\site-packages\\optuna\\distributions.py:545: UserWarning: The distribution is specified by [0.2, 0.95] and q=0.1, but the range is not divisible by `q`. It will be replaced by [0.2, 0.9].\n",
      "  warnings.warn(\n"
     ]
    },
    {
     "name": "stdout",
     "output_type": "stream",
     "text": [
      "[LightGBM] [Warning] feature_fraction is set=0.7, colsample_bytree=1.0 will be ignored. Current value: feature_fraction=0.7\n",
      "[LightGBM] [Warning] min_data_in_leaf is set=200, min_child_samples=20 will be ignored. Current value: min_data_in_leaf=200\n",
      "[LightGBM] [Warning] min_gain_to_split is set=1.0130888126684912, min_split_gain=0.0 will be ignored. Current value: min_gain_to_split=1.0130888126684912\n",
      "[LightGBM] [Warning] lambda_l1 is set=80, reg_alpha=0.0 will be ignored. Current value: lambda_l1=80\n",
      "[LightGBM] [Warning] bagging_fraction is set=0.5, subsample=1.0 will be ignored. Current value: bagging_fraction=0.5\n",
      "[LightGBM] [Warning] lambda_l2 is set=30, reg_lambda=0.0 will be ignored. Current value: lambda_l2=30\n",
      "[LightGBM] [Warning] bagging_freq is set=1, subsample_freq=0 will be ignored. Current value: bagging_freq=1\n"
     ]
    },
    {
     "name": "stderr",
     "output_type": "stream",
     "text": [
      "\u001b[32m[I 2021-09-07 10:45:28,045]\u001b[0m Trial 1 finished with value: 0.9003586379085589 and parameters: {'device_type': 'gpu', 'n_estimators': 7821, 'learning_rate': 0.18864858489704292, 'num_leaves': 960, 'max_depth': 4, 'min_data_in_leaf': 200, 'lambda_l1': 80, 'lambda_l2': 30, 'min_gain_to_split': 1.0130888126684912, 'bagging_fraction': 0.5, 'bagging_freq': 1, 'feature_fraction': 0.7}. Best is trial 1 with value: 0.9003586379085589.\u001b[0m\n",
      "C:\\Users\\I539756\\.virtualenvs\\202109_TabularPlaygroundSeries-75bSHUOP\\lib\\site-packages\\optuna\\distributions.py:545: UserWarning: The distribution is specified by [0.2, 0.95] and q=0.1, but the range is not divisible by `q`. It will be replaced by [0.2, 0.9].\n",
      "  warnings.warn(\n"
     ]
    },
    {
     "name": "stdout",
     "output_type": "stream",
     "text": [
      "[LightGBM] [Warning] feature_fraction is set=0.2, colsample_bytree=1.0 will be ignored. Current value: feature_fraction=0.2\n",
      "[LightGBM] [Warning] min_data_in_leaf is set=9100, min_child_samples=20 will be ignored. Current value: min_data_in_leaf=9100\n",
      "[LightGBM] [Warning] min_gain_to_split is set=13.512267306896002, min_split_gain=0.0 will be ignored. Current value: min_gain_to_split=13.512267306896002\n",
      "[LightGBM] [Warning] lambda_l1 is set=30, reg_alpha=0.0 will be ignored. Current value: lambda_l1=30\n",
      "[LightGBM] [Warning] bagging_fraction is set=0.4, subsample=1.0 will be ignored. Current value: bagging_fraction=0.4\n",
      "[LightGBM] [Warning] lambda_l2 is set=35, reg_lambda=0.0 will be ignored. Current value: lambda_l2=35\n",
      "[LightGBM] [Warning] bagging_freq is set=1, subsample_freq=0 will be ignored. Current value: bagging_freq=1\n"
     ]
    },
    {
     "name": "stderr",
     "output_type": "stream",
     "text": [
      "\u001b[32m[I 2021-09-07 10:47:49,487]\u001b[0m Trial 2 finished with value: 0.8888062561465925 and parameters: {'device_type': 'gpu', 'n_estimators': 1410, 'learning_rate': 0.200855253001689, 'num_leaves': 1360, 'max_depth': 8, 'min_data_in_leaf': 9100, 'lambda_l1': 30, 'lambda_l2': 35, 'min_gain_to_split': 13.512267306896002, 'bagging_fraction': 0.4, 'bagging_freq': 1, 'feature_fraction': 0.2}. Best is trial 1 with value: 0.9003586379085589.\u001b[0m\n",
      "C:\\Users\\I539756\\.virtualenvs\\202109_TabularPlaygroundSeries-75bSHUOP\\lib\\site-packages\\optuna\\distributions.py:545: UserWarning: The distribution is specified by [0.2, 0.95] and q=0.1, but the range is not divisible by `q`. It will be replaced by [0.2, 0.9].\n",
      "  warnings.warn(\n"
     ]
    },
    {
     "name": "stdout",
     "output_type": "stream",
     "text": [
      "[LightGBM] [Warning] feature_fraction is set=0.4, colsample_bytree=1.0 will be ignored. Current value: feature_fraction=0.4\n",
      "[LightGBM] [Warning] min_data_in_leaf is set=7800, min_child_samples=20 will be ignored. Current value: min_data_in_leaf=7800\n",
      "[LightGBM] [Warning] min_gain_to_split is set=9.3240366819004, min_split_gain=0.0 will be ignored. Current value: min_gain_to_split=9.3240366819004\n",
      "[LightGBM] [Warning] lambda_l1 is set=70, reg_alpha=0.0 will be ignored. Current value: lambda_l1=70\n",
      "[LightGBM] [Warning] bagging_fraction is set=0.8, subsample=1.0 will be ignored. Current value: bagging_fraction=0.8\n",
      "[LightGBM] [Warning] lambda_l2 is set=95, reg_lambda=0.0 will be ignored. Current value: lambda_l2=95\n",
      "[LightGBM] [Warning] bagging_freq is set=1, subsample_freq=0 will be ignored. Current value: bagging_freq=1\n"
     ]
    },
    {
     "name": "stderr",
     "output_type": "stream",
     "text": [
      "\u001b[32m[I 2021-09-07 10:51:37,007]\u001b[0m Trial 3 finished with value: 0.8941904947932087 and parameters: {'device_type': 'gpu', 'n_estimators': 9581, 'learning_rate': 0.25227978174368076, 'num_leaves': 1060, 'max_depth': 7, 'min_data_in_leaf': 7800, 'lambda_l1': 70, 'lambda_l2': 95, 'min_gain_to_split': 9.3240366819004, 'bagging_fraction': 0.8, 'bagging_freq': 1, 'feature_fraction': 0.4}. Best is trial 1 with value: 0.9003586379085589.\u001b[0m\n",
      "C:\\Users\\I539756\\.virtualenvs\\202109_TabularPlaygroundSeries-75bSHUOP\\lib\\site-packages\\optuna\\distributions.py:545: UserWarning: The distribution is specified by [0.2, 0.95] and q=0.1, but the range is not divisible by `q`. It will be replaced by [0.2, 0.9].\n",
      "  warnings.warn(\n"
     ]
    },
    {
     "name": "stdout",
     "output_type": "stream",
     "text": [
      "[LightGBM] [Warning] feature_fraction is set=0.2, colsample_bytree=1.0 will be ignored. Current value: feature_fraction=0.2\n",
      "[LightGBM] [Warning] min_data_in_leaf is set=300, min_child_samples=20 will be ignored. Current value: min_data_in_leaf=300\n",
      "[LightGBM] [Warning] min_gain_to_split is set=4.675798078385106, min_split_gain=0.0 will be ignored. Current value: min_gain_to_split=4.675798078385106\n",
      "[LightGBM] [Warning] lambda_l1 is set=80, reg_alpha=0.0 will be ignored. Current value: lambda_l1=80\n",
      "[LightGBM] [Warning] bagging_fraction is set=0.4, subsample=1.0 will be ignored. Current value: bagging_fraction=0.4\n",
      "[LightGBM] [Warning] lambda_l2 is set=65, reg_lambda=0.0 will be ignored. Current value: lambda_l2=65\n",
      "[LightGBM] [Warning] bagging_freq is set=1, subsample_freq=0 will be ignored. Current value: bagging_freq=1\n"
     ]
    },
    {
     "name": "stderr",
     "output_type": "stream",
     "text": [
      "\u001b[32m[I 2021-09-07 10:56:46,568]\u001b[0m Trial 4 finished with value: 0.8998934555285254 and parameters: {'device_type': 'gpu', 'n_estimators': 9274, 'learning_rate': 0.2680073432615731, 'num_leaves': 2900, 'max_depth': 10, 'min_data_in_leaf': 300, 'lambda_l1': 80, 'lambda_l2': 65, 'min_gain_to_split': 4.675798078385106, 'bagging_fraction': 0.4, 'bagging_freq': 1, 'feature_fraction': 0.2}. Best is trial 1 with value: 0.9003586379085589.\u001b[0m\n",
      "C:\\Users\\I539756\\.virtualenvs\\202109_TabularPlaygroundSeries-75bSHUOP\\lib\\site-packages\\optuna\\distributions.py:545: UserWarning: The distribution is specified by [0.2, 0.95] and q=0.1, but the range is not divisible by `q`. It will be replaced by [0.2, 0.9].\n",
      "  warnings.warn(\n"
     ]
    },
    {
     "name": "stdout",
     "output_type": "stream",
     "text": [
      "[LightGBM] [Warning] feature_fraction is set=0.9, colsample_bytree=1.0 will be ignored. Current value: feature_fraction=0.9\n",
      "[LightGBM] [Warning] min_data_in_leaf is set=8800, min_child_samples=20 will be ignored. Current value: min_data_in_leaf=8800\n",
      "[LightGBM] [Warning] min_gain_to_split is set=4.469789138129333, min_split_gain=0.0 will be ignored. Current value: min_gain_to_split=4.469789138129333\n",
      "[LightGBM] [Warning] lambda_l1 is set=60, reg_alpha=0.0 will be ignored. Current value: lambda_l1=60\n",
      "[LightGBM] [Warning] bagging_fraction is set=0.30000000000000004, subsample=1.0 will be ignored. Current value: bagging_fraction=0.30000000000000004\n",
      "[LightGBM] [Warning] lambda_l2 is set=100, reg_lambda=0.0 will be ignored. Current value: lambda_l2=100\n",
      "[LightGBM] [Warning] bagging_freq is set=1, subsample_freq=0 will be ignored. Current value: bagging_freq=1\n"
     ]
    },
    {
     "name": "stderr",
     "output_type": "stream",
     "text": [
      "\u001b[32m[I 2021-09-07 10:56:55,444]\u001b[0m Trial 5 pruned. Trial was pruned at iteration 0.\u001b[0m\n",
      "C:\\Users\\I539756\\.virtualenvs\\202109_TabularPlaygroundSeries-75bSHUOP\\lib\\site-packages\\optuna\\distributions.py:545: UserWarning: The distribution is specified by [0.2, 0.95] and q=0.1, but the range is not divisible by `q`. It will be replaced by [0.2, 0.9].\n",
      "  warnings.warn(\n",
      "\u001b[32m[I 2021-09-07 10:57:08,430]\u001b[0m Trial 6 pruned. Trial was pruned at iteration 14.\u001b[0m\n",
      "C:\\Users\\I539756\\.virtualenvs\\202109_TabularPlaygroundSeries-75bSHUOP\\lib\\site-packages\\optuna\\distributions.py:545: UserWarning: The distribution is specified by [0.2, 0.95] and q=0.1, but the range is not divisible by `q`. It will be replaced by [0.2, 0.9].\n",
      "  warnings.warn(\n",
      "\u001b[32m[I 2021-09-07 10:57:28,736]\u001b[0m Trial 7 pruned. Trial was pruned at iteration 63.\u001b[0m\n",
      "C:\\Users\\I539756\\.virtualenvs\\202109_TabularPlaygroundSeries-75bSHUOP\\lib\\site-packages\\optuna\\distributions.py:545: UserWarning: The distribution is specified by [0.2, 0.95] and q=0.1, but the range is not divisible by `q`. It will be replaced by [0.2, 0.9].\n",
      "  warnings.warn(\n",
      "\u001b[32m[I 2021-09-07 11:31:25,577]\u001b[0m Trial 8 finished with value: 0.8962465288290623 and parameters: {'device_type': 'gpu', 'n_estimators': 3186, 'learning_rate': 0.161226630206645, 'num_leaves': 2960, 'max_depth': 11, 'min_data_in_leaf': 500, 'lambda_l1': 20, 'lambda_l2': 60, 'min_gain_to_split': 1.1591516505455868, 'bagging_fraction': 0.6000000000000001, 'bagging_freq': 1, 'feature_fraction': 0.7}. Best is trial 1 with value: 0.9003586379085589.\u001b[0m\n",
      "C:\\Users\\I539756\\.virtualenvs\\202109_TabularPlaygroundSeries-75bSHUOP\\lib\\site-packages\\optuna\\distributions.py:545: UserWarning: The distribution is specified by [0.2, 0.95] and q=0.1, but the range is not divisible by `q`. It will be replaced by [0.2, 0.9].\n",
      "  warnings.warn(\n"
     ]
    },
    {
     "name": "stdout",
     "output_type": "stream",
     "text": [
      "[LightGBM] [Warning] feature_fraction is set=0.8, colsample_bytree=1.0 will be ignored. Current value: feature_fraction=0.8\n",
      "[LightGBM] [Warning] min_data_in_leaf is set=5000, min_child_samples=20 will be ignored. Current value: min_data_in_leaf=5000\n",
      "[LightGBM] [Warning] min_gain_to_split is set=9.335282396148635, min_split_gain=0.0 will be ignored. Current value: min_gain_to_split=9.335282396148635\n",
      "[LightGBM] [Warning] lambda_l1 is set=65, reg_alpha=0.0 will be ignored. Current value: lambda_l1=65\n",
      "[LightGBM] [Warning] bagging_fraction is set=0.9, subsample=1.0 will be ignored. Current value: bagging_fraction=0.9\n",
      "[LightGBM] [Warning] lambda_l2 is set=5, reg_lambda=0.0 will be ignored. Current value: lambda_l2=5\n",
      "[LightGBM] [Warning] bagging_freq is set=1, subsample_freq=0 will be ignored. Current value: bagging_freq=1\n"
     ]
    },
    {
     "name": "stderr",
     "output_type": "stream",
     "text": [
      "\u001b[32m[I 2021-09-07 11:32:44,259]\u001b[0m Trial 9 pruned. Trial was pruned at iteration 11.\u001b[0m\n",
      "C:\\Users\\I539756\\.virtualenvs\\202109_TabularPlaygroundSeries-75bSHUOP\\lib\\site-packages\\optuna\\distributions.py:545: UserWarning: The distribution is specified by [0.2, 0.95] and q=0.1, but the range is not divisible by `q`. It will be replaced by [0.2, 0.9].\n",
      "  warnings.warn(\n",
      "\u001b[32m[I 2021-09-07 11:33:46,404]\u001b[0m Trial 10 pruned. Trial was pruned at iteration 0.\u001b[0m\n",
      "C:\\Users\\I539756\\.virtualenvs\\202109_TabularPlaygroundSeries-75bSHUOP\\lib\\site-packages\\optuna\\distributions.py:545: UserWarning: The distribution is specified by [0.2, 0.95] and q=0.1, but the range is not divisible by `q`. It will be replaced by [0.2, 0.9].\n",
      "  warnings.warn(\n",
      "\u001b[32m[I 2021-09-07 11:34:13,607]\u001b[0m Trial 11 pruned. Trial was pruned at iteration 0.\u001b[0m\n",
      "C:\\Users\\I539756\\.virtualenvs\\202109_TabularPlaygroundSeries-75bSHUOP\\lib\\site-packages\\optuna\\distributions.py:545: UserWarning: The distribution is specified by [0.2, 0.95] and q=0.1, but the range is not divisible by `q`. It will be replaced by [0.2, 0.9].\n",
      "  warnings.warn(\n",
      "\u001b[32m[I 2021-09-07 11:34:21,928]\u001b[0m Trial 12 pruned. Trial was pruned at iteration 0.\u001b[0m\n",
      "C:\\Users\\I539756\\.virtualenvs\\202109_TabularPlaygroundSeries-75bSHUOP\\lib\\site-packages\\optuna\\distributions.py:545: UserWarning: The distribution is specified by [0.2, 0.95] and q=0.1, but the range is not divisible by `q`. It will be replaced by [0.2, 0.9].\n",
      "  warnings.warn(\n",
      "\u001b[32m[I 2021-09-07 11:37:46,707]\u001b[0m Trial 13 finished with value: 0.8971369952236083 and parameters: {'device_type': 'gpu', 'n_estimators': 8977, 'learning_rate': 0.2949394819507603, 'num_leaves': 1940, 'max_depth': 5, 'min_data_in_leaf': 2800, 'lambda_l1': 50, 'lambda_l2': 70, 'min_gain_to_split': 2.2494996080624037, 'bagging_fraction': 0.5, 'bagging_freq': 1, 'feature_fraction': 0.6000000000000001}. Best is trial 1 with value: 0.9003586379085589.\u001b[0m\n",
      "C:\\Users\\I539756\\.virtualenvs\\202109_TabularPlaygroundSeries-75bSHUOP\\lib\\site-packages\\optuna\\distributions.py:545: UserWarning: The distribution is specified by [0.2, 0.95] and q=0.1, but the range is not divisible by `q`. It will be replaced by [0.2, 0.9].\n",
      "  warnings.warn(\n"
     ]
    },
    {
     "name": "stdout",
     "output_type": "stream",
     "text": [
      "[LightGBM] [Warning] feature_fraction is set=0.4, colsample_bytree=1.0 will be ignored. Current value: feature_fraction=0.4\n",
      "[LightGBM] [Warning] min_data_in_leaf is set=200, min_child_samples=20 will be ignored. Current value: min_data_in_leaf=200\n",
      "[LightGBM] [Warning] min_gain_to_split is set=6.235808680431187, min_split_gain=0.0 will be ignored. Current value: min_gain_to_split=6.235808680431187\n",
      "[LightGBM] [Warning] lambda_l1 is set=50, reg_alpha=0.0 will be ignored. Current value: lambda_l1=50\n",
      "[LightGBM] [Warning] bagging_fraction is set=0.4, subsample=1.0 will be ignored. Current value: bagging_fraction=0.4\n",
      "[LightGBM] [Warning] lambda_l2 is set=45, reg_lambda=0.0 will be ignored. Current value: lambda_l2=45\n",
      "[LightGBM] [Warning] bagging_freq is set=1, subsample_freq=0 will be ignored. Current value: bagging_freq=1\n"
     ]
    },
    {
     "name": "stderr",
     "output_type": "stream",
     "text": [
      "\u001b[32m[I 2021-09-07 11:38:04,763]\u001b[0m Trial 14 pruned. Trial was pruned at iteration 47.\u001b[0m\n",
      "C:\\Users\\I539756\\.virtualenvs\\202109_TabularPlaygroundSeries-75bSHUOP\\lib\\site-packages\\optuna\\distributions.py:545: UserWarning: The distribution is specified by [0.2, 0.95] and q=0.1, but the range is not divisible by `q`. It will be replaced by [0.2, 0.9].\n",
      "  warnings.warn(\n",
      "\u001b[32m[I 2021-09-07 11:38:15,622]\u001b[0m Trial 15 pruned. Trial was pruned at iteration 10.\u001b[0m\n",
      "C:\\Users\\I539756\\.virtualenvs\\202109_TabularPlaygroundSeries-75bSHUOP\\lib\\site-packages\\optuna\\distributions.py:545: UserWarning: The distribution is specified by [0.2, 0.95] and q=0.1, but the range is not divisible by `q`. It will be replaced by [0.2, 0.9].\n",
      "  warnings.warn(\n",
      "\u001b[32m[I 2021-09-07 11:38:29,136]\u001b[0m Trial 16 pruned. Trial was pruned at iteration 0.\u001b[0m\n",
      "C:\\Users\\I539756\\.virtualenvs\\202109_TabularPlaygroundSeries-75bSHUOP\\lib\\site-packages\\optuna\\distributions.py:545: UserWarning: The distribution is specified by [0.2, 0.95] and q=0.1, but the range is not divisible by `q`. It will be replaced by [0.2, 0.9].\n",
      "  warnings.warn(\n",
      "\u001b[32m[I 2021-09-07 11:38:46,111]\u001b[0m Trial 17 pruned. Trial was pruned at iteration 4.\u001b[0m\n",
      "C:\\Users\\I539756\\.virtualenvs\\202109_TabularPlaygroundSeries-75bSHUOP\\lib\\site-packages\\optuna\\distributions.py:545: UserWarning: The distribution is specified by [0.2, 0.95] and q=0.1, but the range is not divisible by `q`. It will be replaced by [0.2, 0.9].\n",
      "  warnings.warn(\n",
      "\u001b[32m[I 2021-09-07 11:39:03,227]\u001b[0m Trial 18 pruned. Trial was pruned at iteration 2.\u001b[0m\n",
      "C:\\Users\\I539756\\.virtualenvs\\202109_TabularPlaygroundSeries-75bSHUOP\\lib\\site-packages\\optuna\\distributions.py:545: UserWarning: The distribution is specified by [0.2, 0.95] and q=0.1, but the range is not divisible by `q`. It will be replaced by [0.2, 0.9].\n",
      "  warnings.warn(\n",
      "\u001b[32m[I 2021-09-07 11:39:24,823]\u001b[0m Trial 19 pruned. Trial was pruned at iteration 23.\u001b[0m\n",
      "C:\\Users\\I539756\\.virtualenvs\\202109_TabularPlaygroundSeries-75bSHUOP\\lib\\site-packages\\optuna\\distributions.py:545: UserWarning: The distribution is specified by [0.2, 0.95] and q=0.1, but the range is not divisible by `q`. It will be replaced by [0.2, 0.9].\n",
      "  warnings.warn(\n",
      "\u001b[32m[I 2021-09-07 11:41:38,975]\u001b[0m Trial 20 pruned. Trial was pruned at iteration 296.\u001b[0m\n",
      "C:\\Users\\I539756\\.virtualenvs\\202109_TabularPlaygroundSeries-75bSHUOP\\lib\\site-packages\\optuna\\distributions.py:545: UserWarning: The distribution is specified by [0.2, 0.95] and q=0.1, but the range is not divisible by `q`. It will be replaced by [0.2, 0.9].\n",
      "  warnings.warn(\n",
      "\u001b[32m[I 2021-09-07 11:41:56,100]\u001b[0m Trial 21 pruned. Trial was pruned at iteration 0.\u001b[0m\n",
      "C:\\Users\\I539756\\.virtualenvs\\202109_TabularPlaygroundSeries-75bSHUOP\\lib\\site-packages\\optuna\\distributions.py:545: UserWarning: The distribution is specified by [0.2, 0.95] and q=0.1, but the range is not divisible by `q`. It will be replaced by [0.2, 0.9].\n",
      "  warnings.warn(\n",
      "\u001b[32m[I 2021-09-07 11:42:13,248]\u001b[0m Trial 22 pruned. Trial was pruned at iteration 1.\u001b[0m\n",
      "C:\\Users\\I539756\\.virtualenvs\\202109_TabularPlaygroundSeries-75bSHUOP\\lib\\site-packages\\optuna\\distributions.py:545: UserWarning: The distribution is specified by [0.2, 0.95] and q=0.1, but the range is not divisible by `q`. It will be replaced by [0.2, 0.9].\n",
      "  warnings.warn(\n",
      "\u001b[32m[I 2021-09-07 11:51:33,689]\u001b[0m Trial 23 pruned. Trial was pruned at iteration 1410.\u001b[0m\n",
      "C:\\Users\\I539756\\.virtualenvs\\202109_TabularPlaygroundSeries-75bSHUOP\\lib\\site-packages\\optuna\\distributions.py:545: UserWarning: The distribution is specified by [0.2, 0.95] and q=0.1, but the range is not divisible by `q`. It will be replaced by [0.2, 0.9].\n",
      "  warnings.warn(\n",
      "\u001b[32m[I 2021-09-07 11:51:55,336]\u001b[0m Trial 24 pruned. Trial was pruned at iteration 14.\u001b[0m\n",
      "C:\\Users\\I539756\\.virtualenvs\\202109_TabularPlaygroundSeries-75bSHUOP\\lib\\site-packages\\optuna\\distributions.py:545: UserWarning: The distribution is specified by [0.2, 0.95] and q=0.1, but the range is not divisible by `q`. It will be replaced by [0.2, 0.9].\n",
      "  warnings.warn(\n",
      "\u001b[32m[I 2021-09-07 11:52:12,027]\u001b[0m Trial 25 pruned. Trial was pruned at iteration 0.\u001b[0m\n",
      "C:\\Users\\I539756\\.virtualenvs\\202109_TabularPlaygroundSeries-75bSHUOP\\lib\\site-packages\\optuna\\distributions.py:545: UserWarning: The distribution is specified by [0.2, 0.95] and q=0.1, but the range is not divisible by `q`. It will be replaced by [0.2, 0.9].\n",
      "  warnings.warn(\n",
      "\u001b[32m[I 2021-09-07 11:52:40,716]\u001b[0m Trial 26 pruned. Trial was pruned at iteration 11.\u001b[0m\n",
      "C:\\Users\\I539756\\.virtualenvs\\202109_TabularPlaygroundSeries-75bSHUOP\\lib\\site-packages\\optuna\\distributions.py:545: UserWarning: The distribution is specified by [0.2, 0.95] and q=0.1, but the range is not divisible by `q`. It will be replaced by [0.2, 0.9].\n",
      "  warnings.warn(\n",
      "\u001b[32m[I 2021-09-07 11:52:58,056]\u001b[0m Trial 27 pruned. Trial was pruned at iteration 11.\u001b[0m\n",
      "C:\\Users\\I539756\\.virtualenvs\\202109_TabularPlaygroundSeries-75bSHUOP\\lib\\site-packages\\optuna\\distributions.py:545: UserWarning: The distribution is specified by [0.2, 0.95] and q=0.1, but the range is not divisible by `q`. It will be replaced by [0.2, 0.9].\n",
      "  warnings.warn(\n",
      "\u001b[32m[I 2021-09-07 11:53:16,711]\u001b[0m Trial 28 pruned. Trial was pruned at iteration 1.\u001b[0m\n",
      "C:\\Users\\I539756\\.virtualenvs\\202109_TabularPlaygroundSeries-75bSHUOP\\lib\\site-packages\\optuna\\distributions.py:545: UserWarning: The distribution is specified by [0.2, 0.95] and q=0.1, but the range is not divisible by `q`. It will be replaced by [0.2, 0.9].\n",
      "  warnings.warn(\n",
      "\u001b[32m[I 2021-09-07 11:53:40,770]\u001b[0m Trial 29 pruned. Trial was pruned at iteration 1.\u001b[0m\n",
      "C:\\Users\\I539756\\.virtualenvs\\202109_TabularPlaygroundSeries-75bSHUOP\\lib\\site-packages\\optuna\\distributions.py:545: UserWarning: The distribution is specified by [0.2, 0.95] and q=0.1, but the range is not divisible by `q`. It will be replaced by [0.2, 0.9].\n",
      "  warnings.warn(\n",
      "\u001b[32m[I 2021-09-07 11:54:01,713]\u001b[0m Trial 30 pruned. Trial was pruned at iteration 1.\u001b[0m\n",
      "C:\\Users\\I539756\\.virtualenvs\\202109_TabularPlaygroundSeries-75bSHUOP\\lib\\site-packages\\optuna\\distributions.py:545: UserWarning: The distribution is specified by [0.2, 0.95] and q=0.1, but the range is not divisible by `q`. It will be replaced by [0.2, 0.9].\n",
      "  warnings.warn(\n",
      "\u001b[32m[I 2021-09-07 11:54:32,577]\u001b[0m Trial 31 pruned. Trial was pruned at iteration 4.\u001b[0m\n",
      "C:\\Users\\I539756\\.virtualenvs\\202109_TabularPlaygroundSeries-75bSHUOP\\lib\\site-packages\\optuna\\distributions.py:545: UserWarning: The distribution is specified by [0.2, 0.95] and q=0.1, but the range is not divisible by `q`. It will be replaced by [0.2, 0.9].\n",
      "  warnings.warn(\n",
      "\u001b[32m[I 2021-09-07 12:00:38,553]\u001b[0m Trial 32 finished with value: 0.8971283203525692 and parameters: {'device_type': 'gpu', 'n_estimators': 2482, 'learning_rate': 0.15504235201383876, 'num_leaves': 2720, 'max_depth': 10, 'min_data_in_leaf': 200, 'lambda_l1': 10, 'lambda_l2': 60, 'min_gain_to_split': 2.0213609976206266, 'bagging_fraction': 0.6000000000000001, 'bagging_freq': 1, 'feature_fraction': 0.7}. Best is trial 1 with value: 0.9003586379085589.\u001b[0m\n",
      "C:\\Users\\I539756\\.virtualenvs\\202109_TabularPlaygroundSeries-75bSHUOP\\lib\\site-packages\\optuna\\distributions.py:545: UserWarning: The distribution is specified by [0.2, 0.95] and q=0.1, but the range is not divisible by `q`. It will be replaced by [0.2, 0.9].\n",
      "  warnings.warn(\n"
     ]
    },
    {
     "name": "stdout",
     "output_type": "stream",
     "text": [
      "[LightGBM] [Warning] feature_fraction is set=0.7, colsample_bytree=1.0 will be ignored. Current value: feature_fraction=0.7\n",
      "[LightGBM] [Warning] min_data_in_leaf is set=200, min_child_samples=20 will be ignored. Current value: min_data_in_leaf=200\n",
      "[LightGBM] [Warning] min_gain_to_split is set=2.3782486556411526, min_split_gain=0.0 will be ignored. Current value: min_gain_to_split=2.3782486556411526\n",
      "[LightGBM] [Warning] lambda_l1 is set=25, reg_alpha=0.0 will be ignored. Current value: lambda_l1=25\n",
      "[LightGBM] [Warning] bagging_fraction is set=0.7, subsample=1.0 will be ignored. Current value: bagging_fraction=0.7\n",
      "[LightGBM] [Warning] lambda_l2 is set=45, reg_lambda=0.0 will be ignored. Current value: lambda_l2=45\n",
      "[LightGBM] [Warning] bagging_freq is set=1, subsample_freq=0 will be ignored. Current value: bagging_freq=1\n"
     ]
    },
    {
     "name": "stderr",
     "output_type": "stream",
     "text": [
      "\u001b[32m[I 2021-09-07 12:00:46,087]\u001b[0m Trial 33 pruned. Trial was pruned at iteration 1.\u001b[0m\n",
      "C:\\Users\\I539756\\.virtualenvs\\202109_TabularPlaygroundSeries-75bSHUOP\\lib\\site-packages\\optuna\\distributions.py:545: UserWarning: The distribution is specified by [0.2, 0.95] and q=0.1, but the range is not divisible by `q`. It will be replaced by [0.2, 0.9].\n",
      "  warnings.warn(\n",
      "\u001b[32m[I 2021-09-07 12:00:54,440]\u001b[0m Trial 34 pruned. Trial was pruned at iteration 0.\u001b[0m\n",
      "C:\\Users\\I539756\\.virtualenvs\\202109_TabularPlaygroundSeries-75bSHUOP\\lib\\site-packages\\optuna\\distributions.py:545: UserWarning: The distribution is specified by [0.2, 0.95] and q=0.1, but the range is not divisible by `q`. It will be replaced by [0.2, 0.9].\n",
      "  warnings.warn(\n",
      "\u001b[32m[I 2021-09-07 12:01:02,426]\u001b[0m Trial 35 pruned. Trial was pruned at iteration 1.\u001b[0m\n",
      "C:\\Users\\I539756\\.virtualenvs\\202109_TabularPlaygroundSeries-75bSHUOP\\lib\\site-packages\\optuna\\distributions.py:545: UserWarning: The distribution is specified by [0.2, 0.95] and q=0.1, but the range is not divisible by `q`. It will be replaced by [0.2, 0.9].\n",
      "  warnings.warn(\n",
      "\u001b[32m[I 2021-09-07 12:01:10,660]\u001b[0m Trial 36 pruned. Trial was pruned at iteration 3.\u001b[0m\n",
      "C:\\Users\\I539756\\.virtualenvs\\202109_TabularPlaygroundSeries-75bSHUOP\\lib\\site-packages\\optuna\\distributions.py:545: UserWarning: The distribution is specified by [0.2, 0.95] and q=0.1, but the range is not divisible by `q`. It will be replaced by [0.2, 0.9].\n",
      "  warnings.warn(\n",
      "\u001b[32m[I 2021-09-07 12:01:28,177]\u001b[0m Trial 37 pruned. Trial was pruned at iteration 53.\u001b[0m\n",
      "C:\\Users\\I539756\\.virtualenvs\\202109_TabularPlaygroundSeries-75bSHUOP\\lib\\site-packages\\optuna\\distributions.py:545: UserWarning: The distribution is specified by [0.2, 0.95] and q=0.1, but the range is not divisible by `q`. It will be replaced by [0.2, 0.9].\n",
      "  warnings.warn(\n",
      "\u001b[32m[I 2021-09-07 12:02:26,242]\u001b[0m Trial 38 pruned. Trial was pruned at iteration 235.\u001b[0m\n",
      "C:\\Users\\I539756\\.virtualenvs\\202109_TabularPlaygroundSeries-75bSHUOP\\lib\\site-packages\\optuna\\distributions.py:545: UserWarning: The distribution is specified by [0.2, 0.95] and q=0.1, but the range is not divisible by `q`. It will be replaced by [0.2, 0.9].\n",
      "  warnings.warn(\n",
      "\u001b[32m[I 2021-09-07 12:02:39,460]\u001b[0m Trial 39 pruned. Trial was pruned at iteration 18.\u001b[0m\n",
      "C:\\Users\\I539756\\.virtualenvs\\202109_TabularPlaygroundSeries-75bSHUOP\\lib\\site-packages\\optuna\\distributions.py:545: UserWarning: The distribution is specified by [0.2, 0.95] and q=0.1, but the range is not divisible by `q`. It will be replaced by [0.2, 0.9].\n",
      "  warnings.warn(\n",
      "\u001b[32m[I 2021-09-07 12:02:46,846]\u001b[0m Trial 40 pruned. Trial was pruned at iteration 1.\u001b[0m\n",
      "C:\\Users\\I539756\\.virtualenvs\\202109_TabularPlaygroundSeries-75bSHUOP\\lib\\site-packages\\optuna\\distributions.py:545: UserWarning: The distribution is specified by [0.2, 0.95] and q=0.1, but the range is not divisible by `q`. It will be replaced by [0.2, 0.9].\n",
      "  warnings.warn(\n",
      "\u001b[32m[I 2021-09-07 12:02:55,280]\u001b[0m Trial 41 pruned. Trial was pruned at iteration 3.\u001b[0m\n",
      "C:\\Users\\I539756\\.virtualenvs\\202109_TabularPlaygroundSeries-75bSHUOP\\lib\\site-packages\\optuna\\distributions.py:545: UserWarning: The distribution is specified by [0.2, 0.95] and q=0.1, but the range is not divisible by `q`. It will be replaced by [0.2, 0.9].\n",
      "  warnings.warn(\n",
      "\u001b[32m[I 2021-09-07 12:08:48,861]\u001b[0m Trial 42 finished with value: 0.8989188221887261 and parameters: {'device_type': 'gpu', 'n_estimators': 2559, 'learning_rate': 0.12958359015257961, 'num_leaves': 2860, 'max_depth': 10, 'min_data_in_leaf': 1800, 'lambda_l1': 15, 'lambda_l2': 55, 'min_gain_to_split': 2.021248370634544, 'bagging_fraction': 0.6000000000000001, 'bagging_freq': 1, 'feature_fraction': 0.7}. Best is trial 1 with value: 0.9003586379085589.\u001b[0m\n",
      "C:\\Users\\I539756\\.virtualenvs\\202109_TabularPlaygroundSeries-75bSHUOP\\lib\\site-packages\\optuna\\distributions.py:545: UserWarning: The distribution is specified by [0.2, 0.95] and q=0.1, but the range is not divisible by `q`. It will be replaced by [0.2, 0.9].\n",
      "  warnings.warn(\n"
     ]
    },
    {
     "name": "stdout",
     "output_type": "stream",
     "text": [
      "[LightGBM] [Warning] feature_fraction is set=0.7, colsample_bytree=1.0 will be ignored. Current value: feature_fraction=0.7\n",
      "[LightGBM] [Warning] min_data_in_leaf is set=1600, min_child_samples=20 will be ignored. Current value: min_data_in_leaf=1600\n",
      "[LightGBM] [Warning] min_gain_to_split is set=2.298779799724488, min_split_gain=0.0 will be ignored. Current value: min_gain_to_split=2.298779799724488\n",
      "[LightGBM] [Warning] lambda_l1 is set=5, reg_alpha=0.0 will be ignored. Current value: lambda_l1=5\n",
      "[LightGBM] [Warning] bagging_fraction is set=0.5, subsample=1.0 will be ignored. Current value: bagging_fraction=0.5\n",
      "[LightGBM] [Warning] lambda_l2 is set=50, reg_lambda=0.0 will be ignored. Current value: lambda_l2=50\n",
      "[LightGBM] [Warning] bagging_freq is set=1, subsample_freq=0 will be ignored. Current value: bagging_freq=1\n"
     ]
    },
    {
     "name": "stderr",
     "output_type": "stream",
     "text": [
      "\u001b[32m[I 2021-09-07 12:09:03,701]\u001b[0m Trial 43 pruned. Trial was pruned at iteration 25.\u001b[0m\n",
      "C:\\Users\\I539756\\.virtualenvs\\202109_TabularPlaygroundSeries-75bSHUOP\\lib\\site-packages\\optuna\\distributions.py:545: UserWarning: The distribution is specified by [0.2, 0.95] and q=0.1, but the range is not divisible by `q`. It will be replaced by [0.2, 0.9].\n",
      "  warnings.warn(\n",
      "\u001b[32m[I 2021-09-07 12:09:13,249]\u001b[0m Trial 44 pruned. Trial was pruned at iteration 4.\u001b[0m\n",
      "C:\\Users\\I539756\\.virtualenvs\\202109_TabularPlaygroundSeries-75bSHUOP\\lib\\site-packages\\optuna\\distributions.py:545: UserWarning: The distribution is specified by [0.2, 0.95] and q=0.1, but the range is not divisible by `q`. It will be replaced by [0.2, 0.9].\n",
      "  warnings.warn(\n",
      "\u001b[32m[I 2021-09-07 12:09:20,695]\u001b[0m Trial 45 pruned. Trial was pruned at iteration 0.\u001b[0m\n",
      "C:\\Users\\I539756\\.virtualenvs\\202109_TabularPlaygroundSeries-75bSHUOP\\lib\\site-packages\\optuna\\distributions.py:545: UserWarning: The distribution is specified by [0.2, 0.95] and q=0.1, but the range is not divisible by `q`. It will be replaced by [0.2, 0.9].\n",
      "  warnings.warn(\n",
      "\u001b[32m[I 2021-09-07 12:09:28,400]\u001b[0m Trial 46 pruned. Trial was pruned at iteration 0.\u001b[0m\n",
      "C:\\Users\\I539756\\.virtualenvs\\202109_TabularPlaygroundSeries-75bSHUOP\\lib\\site-packages\\optuna\\distributions.py:545: UserWarning: The distribution is specified by [0.2, 0.95] and q=0.1, but the range is not divisible by `q`. It will be replaced by [0.2, 0.9].\n",
      "  warnings.warn(\n",
      "\u001b[32m[I 2021-09-07 12:09:36,379]\u001b[0m Trial 47 pruned. Trial was pruned at iteration 3.\u001b[0m\n",
      "C:\\Users\\I539756\\.virtualenvs\\202109_TabularPlaygroundSeries-75bSHUOP\\lib\\site-packages\\optuna\\distributions.py:545: UserWarning: The distribution is specified by [0.2, 0.95] and q=0.1, but the range is not divisible by `q`. It will be replaced by [0.2, 0.9].\n",
      "  warnings.warn(\n",
      "\u001b[32m[I 2021-09-07 12:09:44,324]\u001b[0m Trial 48 pruned. Trial was pruned at iteration 3.\u001b[0m\n",
      "C:\\Users\\I539756\\.virtualenvs\\202109_TabularPlaygroundSeries-75bSHUOP\\lib\\site-packages\\optuna\\distributions.py:545: UserWarning: The distribution is specified by [0.2, 0.95] and q=0.1, but the range is not divisible by `q`. It will be replaced by [0.2, 0.9].\n",
      "  warnings.warn(\n",
      "\u001b[32m[I 2021-09-07 12:09:52,461]\u001b[0m Trial 49 pruned. Trial was pruned at iteration 0.\u001b[0m\n",
      "C:\\Users\\I539756\\.virtualenvs\\202109_TabularPlaygroundSeries-75bSHUOP\\lib\\site-packages\\optuna\\distributions.py:545: UserWarning: The distribution is specified by [0.2, 0.95] and q=0.1, but the range is not divisible by `q`. It will be replaced by [0.2, 0.9].\n",
      "  warnings.warn(\n",
      "\u001b[32m[I 2021-09-07 12:10:00,799]\u001b[0m Trial 50 pruned. Trial was pruned at iteration 7.\u001b[0m\n",
      "C:\\Users\\I539756\\.virtualenvs\\202109_TabularPlaygroundSeries-75bSHUOP\\lib\\site-packages\\optuna\\distributions.py:545: UserWarning: The distribution is specified by [0.2, 0.95] and q=0.1, but the range is not divisible by `q`. It will be replaced by [0.2, 0.9].\n",
      "  warnings.warn(\n",
      "\u001b[32m[I 2021-09-07 12:10:08,834]\u001b[0m Trial 51 pruned. Trial was pruned at iteration 3.\u001b[0m\n",
      "C:\\Users\\I539756\\.virtualenvs\\202109_TabularPlaygroundSeries-75bSHUOP\\lib\\site-packages\\optuna\\distributions.py:545: UserWarning: The distribution is specified by [0.2, 0.95] and q=0.1, but the range is not divisible by `q`. It will be replaced by [0.2, 0.9].\n",
      "  warnings.warn(\n",
      "\u001b[32m[I 2021-09-07 12:10:16,715]\u001b[0m Trial 52 pruned. Trial was pruned at iteration 0.\u001b[0m\n",
      "C:\\Users\\I539756\\.virtualenvs\\202109_TabularPlaygroundSeries-75bSHUOP\\lib\\site-packages\\optuna\\distributions.py:545: UserWarning: The distribution is specified by [0.2, 0.95] and q=0.1, but the range is not divisible by `q`. It will be replaced by [0.2, 0.9].\n",
      "  warnings.warn(\n",
      "\u001b[32m[I 2021-09-07 12:10:37,294]\u001b[0m Trial 53 pruned. Trial was pruned at iteration 93.\u001b[0m\n",
      "C:\\Users\\I539756\\.virtualenvs\\202109_TabularPlaygroundSeries-75bSHUOP\\lib\\site-packages\\optuna\\distributions.py:545: UserWarning: The distribution is specified by [0.2, 0.95] and q=0.1, but the range is not divisible by `q`. It will be replaced by [0.2, 0.9].\n",
      "  warnings.warn(\n",
      "\u001b[32m[I 2021-09-07 12:10:47,813]\u001b[0m Trial 54 pruned. Trial was pruned at iteration 4.\u001b[0m\n",
      "C:\\Users\\I539756\\.virtualenvs\\202109_TabularPlaygroundSeries-75bSHUOP\\lib\\site-packages\\optuna\\distributions.py:545: UserWarning: The distribution is specified by [0.2, 0.95] and q=0.1, but the range is not divisible by `q`. It will be replaced by [0.2, 0.9].\n",
      "  warnings.warn(\n",
      "\u001b[32m[I 2021-09-07 12:10:55,224]\u001b[0m Trial 55 pruned. Trial was pruned at iteration 0.\u001b[0m\n",
      "C:\\Users\\I539756\\.virtualenvs\\202109_TabularPlaygroundSeries-75bSHUOP\\lib\\site-packages\\optuna\\distributions.py:545: UserWarning: The distribution is specified by [0.2, 0.95] and q=0.1, but the range is not divisible by `q`. It will be replaced by [0.2, 0.9].\n",
      "  warnings.warn(\n",
      "\u001b[32m[I 2021-09-07 12:11:02,784]\u001b[0m Trial 56 pruned. Trial was pruned at iteration 0.\u001b[0m\n",
      "C:\\Users\\I539756\\.virtualenvs\\202109_TabularPlaygroundSeries-75bSHUOP\\lib\\site-packages\\optuna\\distributions.py:545: UserWarning: The distribution is specified by [0.2, 0.95] and q=0.1, but the range is not divisible by `q`. It will be replaced by [0.2, 0.9].\n",
      "  warnings.warn(\n",
      "\u001b[32m[I 2021-09-07 12:11:11,059]\u001b[0m Trial 57 pruned. Trial was pruned at iteration 0.\u001b[0m\n",
      "C:\\Users\\I539756\\.virtualenvs\\202109_TabularPlaygroundSeries-75bSHUOP\\lib\\site-packages\\optuna\\distributions.py:545: UserWarning: The distribution is specified by [0.2, 0.95] and q=0.1, but the range is not divisible by `q`. It will be replaced by [0.2, 0.9].\n",
      "  warnings.warn(\n",
      "\u001b[32m[I 2021-09-07 12:11:18,440]\u001b[0m Trial 58 pruned. Trial was pruned at iteration 0.\u001b[0m\n",
      "C:\\Users\\I539756\\.virtualenvs\\202109_TabularPlaygroundSeries-75bSHUOP\\lib\\site-packages\\optuna\\distributions.py:545: UserWarning: The distribution is specified by [0.2, 0.95] and q=0.1, but the range is not divisible by `q`. It will be replaced by [0.2, 0.9].\n",
      "  warnings.warn(\n",
      "\u001b[32m[I 2021-09-07 12:11:27,599]\u001b[0m Trial 59 pruned. Trial was pruned at iteration 0.\u001b[0m\n",
      "C:\\Users\\I539756\\.virtualenvs\\202109_TabularPlaygroundSeries-75bSHUOP\\lib\\site-packages\\optuna\\distributions.py:545: UserWarning: The distribution is specified by [0.2, 0.95] and q=0.1, but the range is not divisible by `q`. It will be replaced by [0.2, 0.9].\n",
      "  warnings.warn(\n",
      "\u001b[32m[I 2021-09-07 12:11:36,712]\u001b[0m Trial 60 pruned. Trial was pruned at iteration 1.\u001b[0m\n",
      "C:\\Users\\I539756\\.virtualenvs\\202109_TabularPlaygroundSeries-75bSHUOP\\lib\\site-packages\\optuna\\distributions.py:545: UserWarning: The distribution is specified by [0.2, 0.95] and q=0.1, but the range is not divisible by `q`. It will be replaced by [0.2, 0.9].\n",
      "  warnings.warn(\n",
      "\u001b[32m[I 2021-09-07 12:11:45,898]\u001b[0m Trial 61 pruned. Trial was pruned at iteration 6.\u001b[0m\n",
      "C:\\Users\\I539756\\.virtualenvs\\202109_TabularPlaygroundSeries-75bSHUOP\\lib\\site-packages\\optuna\\distributions.py:545: UserWarning: The distribution is specified by [0.2, 0.95] and q=0.1, but the range is not divisible by `q`. It will be replaced by [0.2, 0.9].\n",
      "  warnings.warn(\n",
      "\u001b[32m[I 2021-09-07 12:11:54,696]\u001b[0m Trial 62 pruned. Trial was pruned at iteration 4.\u001b[0m\n",
      "C:\\Users\\I539756\\.virtualenvs\\202109_TabularPlaygroundSeries-75bSHUOP\\lib\\site-packages\\optuna\\distributions.py:545: UserWarning: The distribution is specified by [0.2, 0.95] and q=0.1, but the range is not divisible by `q`. It will be replaced by [0.2, 0.9].\n",
      "  warnings.warn(\n",
      "\u001b[32m[I 2021-09-07 12:12:04,201]\u001b[0m Trial 63 pruned. Trial was pruned at iteration 0.\u001b[0m\n",
      "C:\\Users\\I539756\\.virtualenvs\\202109_TabularPlaygroundSeries-75bSHUOP\\lib\\site-packages\\optuna\\distributions.py:545: UserWarning: The distribution is specified by [0.2, 0.95] and q=0.1, but the range is not divisible by `q`. It will be replaced by [0.2, 0.9].\n",
      "  warnings.warn(\n",
      "\u001b[32m[I 2021-09-07 12:12:13,051]\u001b[0m Trial 64 pruned. Trial was pruned at iteration 0.\u001b[0m\n",
      "C:\\Users\\I539756\\.virtualenvs\\202109_TabularPlaygroundSeries-75bSHUOP\\lib\\site-packages\\optuna\\distributions.py:545: UserWarning: The distribution is specified by [0.2, 0.95] and q=0.1, but the range is not divisible by `q`. It will be replaced by [0.2, 0.9].\n",
      "  warnings.warn(\n",
      "\u001b[32m[I 2021-09-07 12:12:21,294]\u001b[0m Trial 65 pruned. Trial was pruned at iteration 0.\u001b[0m\n",
      "C:\\Users\\I539756\\.virtualenvs\\202109_TabularPlaygroundSeries-75bSHUOP\\lib\\site-packages\\optuna\\distributions.py:545: UserWarning: The distribution is specified by [0.2, 0.95] and q=0.1, but the range is not divisible by `q`. It will be replaced by [0.2, 0.9].\n",
      "  warnings.warn(\n",
      "\u001b[32m[I 2021-09-07 12:12:29,733]\u001b[0m Trial 66 pruned. Trial was pruned at iteration 0.\u001b[0m\n",
      "C:\\Users\\I539756\\.virtualenvs\\202109_TabularPlaygroundSeries-75bSHUOP\\lib\\site-packages\\optuna\\distributions.py:545: UserWarning: The distribution is specified by [0.2, 0.95] and q=0.1, but the range is not divisible by `q`. It will be replaced by [0.2, 0.9].\n",
      "  warnings.warn(\n",
      "\u001b[32m[I 2021-09-07 12:12:37,406]\u001b[0m Trial 67 pruned. Trial was pruned at iteration 0.\u001b[0m\n",
      "C:\\Users\\I539756\\.virtualenvs\\202109_TabularPlaygroundSeries-75bSHUOP\\lib\\site-packages\\optuna\\distributions.py:545: UserWarning: The distribution is specified by [0.2, 0.95] and q=0.1, but the range is not divisible by `q`. It will be replaced by [0.2, 0.9].\n",
      "  warnings.warn(\n",
      "\u001b[32m[I 2021-09-07 12:12:45,626]\u001b[0m Trial 68 pruned. Trial was pruned at iteration 3.\u001b[0m\n",
      "C:\\Users\\I539756\\.virtualenvs\\202109_TabularPlaygroundSeries-75bSHUOP\\lib\\site-packages\\optuna\\distributions.py:545: UserWarning: The distribution is specified by [0.2, 0.95] and q=0.1, but the range is not divisible by `q`. It will be replaced by [0.2, 0.9].\n",
      "  warnings.warn(\n",
      "\u001b[32m[I 2021-09-07 12:15:32,034]\u001b[0m Trial 69 pruned. Trial was pruned at iteration 1410.\u001b[0m\n",
      "C:\\Users\\I539756\\.virtualenvs\\202109_TabularPlaygroundSeries-75bSHUOP\\lib\\site-packages\\optuna\\distributions.py:545: UserWarning: The distribution is specified by [0.2, 0.95] and q=0.1, but the range is not divisible by `q`. It will be replaced by [0.2, 0.9].\n",
      "  warnings.warn(\n",
      "\u001b[32m[I 2021-09-07 12:15:40,544]\u001b[0m Trial 70 pruned. Trial was pruned at iteration 4.\u001b[0m\n",
      "C:\\Users\\I539756\\.virtualenvs\\202109_TabularPlaygroundSeries-75bSHUOP\\lib\\site-packages\\optuna\\distributions.py:545: UserWarning: The distribution is specified by [0.2, 0.95] and q=0.1, but the range is not divisible by `q`. It will be replaced by [0.2, 0.9].\n",
      "  warnings.warn(\n",
      "\u001b[32m[I 2021-09-07 12:15:49,501]\u001b[0m Trial 71 pruned. Trial was pruned at iteration 0.\u001b[0m\n",
      "C:\\Users\\I539756\\.virtualenvs\\202109_TabularPlaygroundSeries-75bSHUOP\\lib\\site-packages\\optuna\\distributions.py:545: UserWarning: The distribution is specified by [0.2, 0.95] and q=0.1, but the range is not divisible by `q`. It will be replaced by [0.2, 0.9].\n",
      "  warnings.warn(\n",
      "\u001b[32m[I 2021-09-07 12:15:57,752]\u001b[0m Trial 72 pruned. Trial was pruned at iteration 0.\u001b[0m\n",
      "C:\\Users\\I539756\\.virtualenvs\\202109_TabularPlaygroundSeries-75bSHUOP\\lib\\site-packages\\optuna\\distributions.py:545: UserWarning: The distribution is specified by [0.2, 0.95] and q=0.1, but the range is not divisible by `q`. It will be replaced by [0.2, 0.9].\n",
      "  warnings.warn(\n",
      "\u001b[32m[I 2021-09-07 12:16:06,262]\u001b[0m Trial 73 pruned. Trial was pruned at iteration 0.\u001b[0m\n",
      "C:\\Users\\I539756\\.virtualenvs\\202109_TabularPlaygroundSeries-75bSHUOP\\lib\\site-packages\\optuna\\distributions.py:545: UserWarning: The distribution is specified by [0.2, 0.95] and q=0.1, but the range is not divisible by `q`. It will be replaced by [0.2, 0.9].\n",
      "  warnings.warn(\n",
      "\u001b[32m[I 2021-09-07 12:16:14,954]\u001b[0m Trial 74 pruned. Trial was pruned at iteration 0.\u001b[0m\n",
      "C:\\Users\\I539756\\.virtualenvs\\202109_TabularPlaygroundSeries-75bSHUOP\\lib\\site-packages\\optuna\\distributions.py:545: UserWarning: The distribution is specified by [0.2, 0.95] and q=0.1, but the range is not divisible by `q`. It will be replaced by [0.2, 0.9].\n",
      "  warnings.warn(\n",
      "\u001b[32m[I 2021-09-07 12:16:23,413]\u001b[0m Trial 75 pruned. Trial was pruned at iteration 0.\u001b[0m\n",
      "C:\\Users\\I539756\\.virtualenvs\\202109_TabularPlaygroundSeries-75bSHUOP\\lib\\site-packages\\optuna\\distributions.py:545: UserWarning: The distribution is specified by [0.2, 0.95] and q=0.1, but the range is not divisible by `q`. It will be replaced by [0.2, 0.9].\n",
      "  warnings.warn(\n",
      "\u001b[32m[I 2021-09-07 12:16:32,372]\u001b[0m Trial 76 pruned. Trial was pruned at iteration 0.\u001b[0m\n",
      "C:\\Users\\I539756\\.virtualenvs\\202109_TabularPlaygroundSeries-75bSHUOP\\lib\\site-packages\\optuna\\distributions.py:545: UserWarning: The distribution is specified by [0.2, 0.95] and q=0.1, but the range is not divisible by `q`. It will be replaced by [0.2, 0.9].\n",
      "  warnings.warn(\n",
      "\u001b[32m[I 2021-09-07 12:16:40,548]\u001b[0m Trial 77 pruned. Trial was pruned at iteration 0.\u001b[0m\n",
      "C:\\Users\\I539756\\.virtualenvs\\202109_TabularPlaygroundSeries-75bSHUOP\\lib\\site-packages\\optuna\\distributions.py:545: UserWarning: The distribution is specified by [0.2, 0.95] and q=0.1, but the range is not divisible by `q`. It will be replaced by [0.2, 0.9].\n",
      "  warnings.warn(\n",
      "\u001b[32m[I 2021-09-07 12:16:50,365]\u001b[0m Trial 78 pruned. Trial was pruned at iteration 6.\u001b[0m\n",
      "C:\\Users\\I539756\\.virtualenvs\\202109_TabularPlaygroundSeries-75bSHUOP\\lib\\site-packages\\optuna\\distributions.py:545: UserWarning: The distribution is specified by [0.2, 0.95] and q=0.1, but the range is not divisible by `q`. It will be replaced by [0.2, 0.9].\n",
      "  warnings.warn(\n",
      "\u001b[32m[I 2021-09-07 12:17:38,123]\u001b[0m Trial 79 pruned. Trial was pruned at iteration 102.\u001b[0m\n",
      "C:\\Users\\I539756\\.virtualenvs\\202109_TabularPlaygroundSeries-75bSHUOP\\lib\\site-packages\\optuna\\distributions.py:545: UserWarning: The distribution is specified by [0.2, 0.95] and q=0.1, but the range is not divisible by `q`. It will be replaced by [0.2, 0.9].\n",
      "  warnings.warn(\n",
      "\u001b[32m[I 2021-09-07 12:17:48,681]\u001b[0m Trial 80 pruned. Trial was pruned at iteration 4.\u001b[0m\n",
      "C:\\Users\\I539756\\.virtualenvs\\202109_TabularPlaygroundSeries-75bSHUOP\\lib\\site-packages\\optuna\\distributions.py:545: UserWarning: The distribution is specified by [0.2, 0.95] and q=0.1, but the range is not divisible by `q`. It will be replaced by [0.2, 0.9].\n",
      "  warnings.warn(\n",
      "\u001b[32m[I 2021-09-07 12:18:00,389]\u001b[0m Trial 81 pruned. Trial was pruned at iteration 1.\u001b[0m\n",
      "C:\\Users\\I539756\\.virtualenvs\\202109_TabularPlaygroundSeries-75bSHUOP\\lib\\site-packages\\optuna\\distributions.py:545: UserWarning: The distribution is specified by [0.2, 0.95] and q=0.1, but the range is not divisible by `q`. It will be replaced by [0.2, 0.9].\n",
      "  warnings.warn(\n",
      "\u001b[32m[I 2021-09-07 12:18:10,905]\u001b[0m Trial 82 pruned. Trial was pruned at iteration 0.\u001b[0m\n",
      "C:\\Users\\I539756\\.virtualenvs\\202109_TabularPlaygroundSeries-75bSHUOP\\lib\\site-packages\\optuna\\distributions.py:545: UserWarning: The distribution is specified by [0.2, 0.95] and q=0.1, but the range is not divisible by `q`. It will be replaced by [0.2, 0.9].\n",
      "  warnings.warn(\n",
      "\u001b[32m[I 2021-09-07 12:18:21,436]\u001b[0m Trial 83 pruned. Trial was pruned at iteration 1.\u001b[0m\n",
      "C:\\Users\\I539756\\.virtualenvs\\202109_TabularPlaygroundSeries-75bSHUOP\\lib\\site-packages\\optuna\\distributions.py:545: UserWarning: The distribution is specified by [0.2, 0.95] and q=0.1, but the range is not divisible by `q`. It will be replaced by [0.2, 0.9].\n",
      "  warnings.warn(\n",
      "\u001b[32m[I 2021-09-07 12:18:33,251]\u001b[0m Trial 84 pruned. Trial was pruned at iteration 0.\u001b[0m\n",
      "C:\\Users\\I539756\\.virtualenvs\\202109_TabularPlaygroundSeries-75bSHUOP\\lib\\site-packages\\optuna\\distributions.py:545: UserWarning: The distribution is specified by [0.2, 0.95] and q=0.1, but the range is not divisible by `q`. It will be replaced by [0.2, 0.9].\n",
      "  warnings.warn(\n",
      "\u001b[32m[I 2021-09-07 12:18:51,833]\u001b[0m Trial 85 pruned. Trial was pruned at iteration 33.\u001b[0m\n",
      "C:\\Users\\I539756\\.virtualenvs\\202109_TabularPlaygroundSeries-75bSHUOP\\lib\\site-packages\\optuna\\distributions.py:545: UserWarning: The distribution is specified by [0.2, 0.95] and q=0.1, but the range is not divisible by `q`. It will be replaced by [0.2, 0.9].\n",
      "  warnings.warn(\n",
      "\u001b[32m[I 2021-09-07 12:19:02,022]\u001b[0m Trial 86 pruned. Trial was pruned at iteration 0.\u001b[0m\n",
      "C:\\Users\\I539756\\.virtualenvs\\202109_TabularPlaygroundSeries-75bSHUOP\\lib\\site-packages\\optuna\\distributions.py:545: UserWarning: The distribution is specified by [0.2, 0.95] and q=0.1, but the range is not divisible by `q`. It will be replaced by [0.2, 0.9].\n",
      "  warnings.warn(\n",
      "\u001b[32m[I 2021-09-07 12:19:13,249]\u001b[0m Trial 87 pruned. Trial was pruned at iteration 3.\u001b[0m\n",
      "C:\\Users\\I539756\\.virtualenvs\\202109_TabularPlaygroundSeries-75bSHUOP\\lib\\site-packages\\optuna\\distributions.py:545: UserWarning: The distribution is specified by [0.2, 0.95] and q=0.1, but the range is not divisible by `q`. It will be replaced by [0.2, 0.9].\n",
      "  warnings.warn(\n",
      "\u001b[32m[I 2021-09-07 12:19:24,520]\u001b[0m Trial 88 pruned. Trial was pruned at iteration 4.\u001b[0m\n",
      "C:\\Users\\I539756\\.virtualenvs\\202109_TabularPlaygroundSeries-75bSHUOP\\lib\\site-packages\\optuna\\distributions.py:545: UserWarning: The distribution is specified by [0.2, 0.95] and q=0.1, but the range is not divisible by `q`. It will be replaced by [0.2, 0.9].\n",
      "  warnings.warn(\n",
      "\u001b[32m[I 2021-09-07 12:19:35,030]\u001b[0m Trial 89 pruned. Trial was pruned at iteration 0.\u001b[0m\n",
      "C:\\Users\\I539756\\.virtualenvs\\202109_TabularPlaygroundSeries-75bSHUOP\\lib\\site-packages\\optuna\\distributions.py:545: UserWarning: The distribution is specified by [0.2, 0.95] and q=0.1, but the range is not divisible by `q`. It will be replaced by [0.2, 0.9].\n",
      "  warnings.warn(\n",
      "\u001b[32m[I 2021-09-07 12:19:45,589]\u001b[0m Trial 90 pruned. Trial was pruned at iteration 0.\u001b[0m\n",
      "C:\\Users\\I539756\\.virtualenvs\\202109_TabularPlaygroundSeries-75bSHUOP\\lib\\site-packages\\optuna\\distributions.py:545: UserWarning: The distribution is specified by [0.2, 0.95] and q=0.1, but the range is not divisible by `q`. It will be replaced by [0.2, 0.9].\n",
      "  warnings.warn(\n",
      "\u001b[32m[I 2021-09-07 12:19:57,106]\u001b[0m Trial 91 pruned. Trial was pruned at iteration 4.\u001b[0m\n",
      "C:\\Users\\I539756\\.virtualenvs\\202109_TabularPlaygroundSeries-75bSHUOP\\lib\\site-packages\\optuna\\distributions.py:545: UserWarning: The distribution is specified by [0.2, 0.95] and q=0.1, but the range is not divisible by `q`. It will be replaced by [0.2, 0.9].\n",
      "  warnings.warn(\n",
      "\u001b[32m[I 2021-09-07 12:20:07,913]\u001b[0m Trial 92 pruned. Trial was pruned at iteration 0.\u001b[0m\n",
      "C:\\Users\\I539756\\.virtualenvs\\202109_TabularPlaygroundSeries-75bSHUOP\\lib\\site-packages\\optuna\\distributions.py:545: UserWarning: The distribution is specified by [0.2, 0.95] and q=0.1, but the range is not divisible by `q`. It will be replaced by [0.2, 0.9].\n",
      "  warnings.warn(\n",
      "\u001b[32m[I 2021-09-07 12:20:17,883]\u001b[0m Trial 93 pruned. Trial was pruned at iteration 0.\u001b[0m\n",
      "C:\\Users\\I539756\\.virtualenvs\\202109_TabularPlaygroundSeries-75bSHUOP\\lib\\site-packages\\optuna\\distributions.py:545: UserWarning: The distribution is specified by [0.2, 0.95] and q=0.1, but the range is not divisible by `q`. It will be replaced by [0.2, 0.9].\n",
      "  warnings.warn(\n",
      "\u001b[32m[I 2021-09-07 12:20:28,209]\u001b[0m Trial 94 pruned. Trial was pruned at iteration 0.\u001b[0m\n",
      "C:\\Users\\I539756\\.virtualenvs\\202109_TabularPlaygroundSeries-75bSHUOP\\lib\\site-packages\\optuna\\distributions.py:545: UserWarning: The distribution is specified by [0.2, 0.95] and q=0.1, but the range is not divisible by `q`. It will be replaced by [0.2, 0.9].\n",
      "  warnings.warn(\n",
      "\u001b[32m[I 2021-09-07 12:20:39,126]\u001b[0m Trial 95 pruned. Trial was pruned at iteration 0.\u001b[0m\n",
      "C:\\Users\\I539756\\.virtualenvs\\202109_TabularPlaygroundSeries-75bSHUOP\\lib\\site-packages\\optuna\\distributions.py:545: UserWarning: The distribution is specified by [0.2, 0.95] and q=0.1, but the range is not divisible by `q`. It will be replaced by [0.2, 0.9].\n",
      "  warnings.warn(\n",
      "\u001b[32m[I 2021-09-07 12:20:49,435]\u001b[0m Trial 96 pruned. Trial was pruned at iteration 1.\u001b[0m\n",
      "C:\\Users\\I539756\\.virtualenvs\\202109_TabularPlaygroundSeries-75bSHUOP\\lib\\site-packages\\optuna\\distributions.py:545: UserWarning: The distribution is specified by [0.2, 0.95] and q=0.1, but the range is not divisible by `q`. It will be replaced by [0.2, 0.9].\n",
      "  warnings.warn(\n",
      "\u001b[32m[I 2021-09-07 12:30:15,095]\u001b[0m Trial 97 finished with value: 0.9007919455536919 and parameters: {'device_type': 'gpu', 'n_estimators': 6785, 'learning_rate': 0.2619688498533325, 'num_leaves': 720, 'max_depth': 8, 'min_data_in_leaf': 1100, 'lambda_l1': 15, 'lambda_l2': 50, 'min_gain_to_split': 4.629578709064481, 'bagging_fraction': 0.8, 'bagging_freq': 1, 'feature_fraction': 0.8}. Best is trial 97 with value: 0.9007919455536919.\u001b[0m\n",
      "C:\\Users\\I539756\\.virtualenvs\\202109_TabularPlaygroundSeries-75bSHUOP\\lib\\site-packages\\optuna\\distributions.py:545: UserWarning: The distribution is specified by [0.2, 0.95] and q=0.1, but the range is not divisible by `q`. It will be replaced by [0.2, 0.9].\n",
      "  warnings.warn(\n"
     ]
    },
    {
     "name": "stdout",
     "output_type": "stream",
     "text": [
      "[LightGBM] [Warning] feature_fraction is set=0.9, colsample_bytree=1.0 will be ignored. Current value: feature_fraction=0.9\n",
      "[LightGBM] [Warning] min_data_in_leaf is set=1100, min_child_samples=20 will be ignored. Current value: min_data_in_leaf=1100\n",
      "[LightGBM] [Warning] min_gain_to_split is set=4.752116387567169, min_split_gain=0.0 will be ignored. Current value: min_gain_to_split=4.752116387567169\n",
      "[LightGBM] [Warning] lambda_l1 is set=65, reg_alpha=0.0 will be ignored. Current value: lambda_l1=65\n",
      "[LightGBM] [Warning] bagging_fraction is set=0.8, subsample=1.0 will be ignored. Current value: bagging_fraction=0.8\n",
      "[LightGBM] [Warning] lambda_l2 is set=60, reg_lambda=0.0 will be ignored. Current value: lambda_l2=60\n",
      "[LightGBM] [Warning] bagging_freq is set=1, subsample_freq=0 will be ignored. Current value: bagging_freq=1\n"
     ]
    },
    {
     "name": "stderr",
     "output_type": "stream",
     "text": [
      "\u001b[32m[I 2021-09-07 12:30:25,508]\u001b[0m Trial 98 pruned. Trial was pruned at iteration 1.\u001b[0m\n",
      "C:\\Users\\I539756\\.virtualenvs\\202109_TabularPlaygroundSeries-75bSHUOP\\lib\\site-packages\\optuna\\distributions.py:545: UserWarning: The distribution is specified by [0.2, 0.95] and q=0.1, but the range is not divisible by `q`. It will be replaced by [0.2, 0.9].\n",
      "  warnings.warn(\n",
      "\u001b[32m[I 2021-09-07 12:36:51,208]\u001b[0m Trial 99 finished with value: 0.9005760827946852 and parameters: {'device_type': 'gpu', 'n_estimators': 6245, 'learning_rate': 0.23652487183805918, 'num_leaves': 700, 'max_depth': 9, 'min_data_in_leaf': 900, 'lambda_l1': 15, 'lambda_l2': 50, 'min_gain_to_split': 5.178653152737601, 'bagging_fraction': 0.8, 'bagging_freq': 1, 'feature_fraction': 0.8}. Best is trial 97 with value: 0.9007919455536919.\u001b[0m\n"
     ]
    }
   ],
   "source": [
    "study_w_pseudo_labels = optuna.create_study(direction=\"maximize\", study_name=\"LGBM Classifier With Pseudo Labels\")\n",
    "func = lambda trial: objective(trial, X_w_nan_w_pseudo_labels, y_w_pseudo_labels)\n",
    "study_w_pseudo_labels.optimize(func, n_trials=100)"
   ]
  },
  {
   "cell_type": "code",
   "execution_count": 39,
   "id": "8557bc8a-0344-4756-a615-5b4f292c3fac",
   "metadata": {},
   "outputs": [
    {
     "name": "stdout",
     "output_type": "stream",
     "text": [
      "\tBest value (AUC): 0.90079\n",
      "\tBest params:\n"
     ]
    },
    {
     "data": {
      "text/plain": [
       "{'device_type': 'gpu',\n",
       " 'n_estimators': 6785,\n",
       " 'learning_rate': 0.2619688498533325,\n",
       " 'num_leaves': 720,\n",
       " 'max_depth': 8,\n",
       " 'min_data_in_leaf': 1100,\n",
       " 'lambda_l1': 15,\n",
       " 'lambda_l2': 50,\n",
       " 'min_gain_to_split': 4.629578709064481,\n",
       " 'bagging_fraction': 0.8,\n",
       " 'bagging_freq': 1,\n",
       " 'feature_fraction': 0.8}"
      ]
     },
     "execution_count": 39,
     "metadata": {},
     "output_type": "execute_result"
    }
   ],
   "source": [
    "print(f\"\\tBest value (AUC): {study_w_pseudo_labels.best_value:.5f}\")\n",
    "print(f\"\\tBest params:\")\n",
    "study_w_pseudo_labels.best_params"
   ]
  },
  {
   "cell_type": "code",
   "execution_count": 40,
   "id": "4c75200b-35bd-4e33-a90c-724b0ea1dd64",
   "metadata": {},
   "outputs": [
    {
     "name": "stdout",
     "output_type": "stream",
     "text": [
      "[LightGBM] [Warning] feature_fraction is set=0.8, colsample_bytree=1.0 will be ignored. Current value: feature_fraction=0.8\n",
      "[LightGBM] [Warning] min_data_in_leaf is set=1100, min_child_samples=20 will be ignored. Current value: min_data_in_leaf=1100\n",
      "[LightGBM] [Warning] min_gain_to_split is set=4.629578709064481, min_split_gain=0.0 will be ignored. Current value: min_gain_to_split=4.629578709064481\n",
      "[LightGBM] [Warning] lambda_l1 is set=15, reg_alpha=0.0 will be ignored. Current value: lambda_l1=15\n",
      "[LightGBM] [Warning] bagging_fraction is set=0.8, subsample=1.0 will be ignored. Current value: bagging_fraction=0.8\n",
      "[LightGBM] [Warning] lambda_l2 is set=50, reg_lambda=0.0 will be ignored. Current value: lambda_l2=50\n",
      "[LightGBM] [Warning] bagging_freq is set=1, subsample_freq=0 will be ignored. Current value: bagging_freq=1\n"
     ]
    },
    {
     "data": {
      "text/plain": [
       "['Models/default_lgbm_model_w_nan_count_w_full_pseudo_labels_tuned.joblib']"
      ]
     },
     "execution_count": 40,
     "metadata": {},
     "output_type": "execute_result"
    }
   ],
   "source": [
    "# Train model with best hyperparameters\n",
    "model_w_pseudo_labels = lgbm.LGBMClassifier(objective=\"binary\")\n",
    "model_w_pseudo_labels.set_params(**{'device_type': 'gpu',\n",
    " 'n_estimators': 6785,\n",
    " 'learning_rate': 0.2619688498533325,\n",
    " 'num_leaves': 720,\n",
    " 'max_depth': 8,\n",
    " 'min_data_in_leaf': 1100,\n",
    " 'lambda_l1': 15,\n",
    " 'lambda_l2': 50,\n",
    " 'min_gain_to_split': 4.629578709064481,\n",
    " 'bagging_fraction': 0.8,\n",
    " 'bagging_freq': 1,\n",
    " 'feature_fraction': 0.8})\n",
    "model_w_pseudo_labels.fit(X_w_nan_wpip install jupyterlab_pseudo_labels, y_w_pseudo_labels)\n",
    "dump(model, 'Models/default_lgbm_model_w_nan_count_w_full_pseudo_labels_tuned.joblib') "
   ]
  },
  {
   "cell_type": "code",
   "execution_count": 41,
   "id": "37eb3797-664d-4035-8ec9-cfb3f0e0a137",
   "metadata": {},
   "outputs": [],
   "source": [
    "y_pred_w_pseudo_labels = model.predict_proba(test_data_w_nan)\n",
    "sample_submission.claim = y_pred_w_pseudo_labels[:, 1]\n",
    "sample_submission.to_csv(\"Submissions/default_lgbm_model_w_nan_count_w_full_pseudo_labels_tuned.csv\")"
   ]
  },
  {
   "cell_type": "code",
   "execution_count": null,
   "id": "5177371f-2b0e-4001-a7e7-6032bd329312",
   "metadata": {},
   "outputs": [],
   "source": []
  }
 ],
 "metadata": {
  "kernelspec": {
   "display_name": "Python 3 (ipykernel)",
   "language": "python",
   "name": "python3"
  },
  "language_info": {
   "codemirror_mode": {
    "name": "ipython",
    "version": 3
   },
   "file_extension": ".py",
   "mimetype": "text/x-python",
   "name": "python",
   "nbconvert_exporter": "python",
   "pygments_lexer": "ipython3",
   "version": "3.8.6"
  }
 },
 "nbformat": 4,
 "nbformat_minor": 5
}
